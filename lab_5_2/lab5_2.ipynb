{
 "cells": [
  {
   "cell_type": "code",
   "execution_count": 725,
   "metadata": {
    "collapsed": true
   },
   "outputs": [],
   "source": [
    "import matplotlib.pyplot as plt\n",
    "from sklearn.datasets import make_blobs\n",
    "import pylab\n",
    "from sklearn.model_selection import train_test_split, cross_val_score\n",
    "from sklearn.metrics import confusion_matrix\n",
    "from matplotlib.colors import ListedColormap\n",
    "from sklearn.linear_model import RidgeClassifier\n",
    "from sklearn.linear_model import Lasso\n",
    "from sklearn.linear_model import Ridge\n",
    "from sklearn.metrics import accuracy_score\n",
    "from sklearn.linear_model import SGDClassifier\n",
    "from sklearn.metrics import precision_score, recall_score, f1_score\n",
    "from sklearn.metrics import roc_curve, auc"
   ]
  },
  {
   "cell_type": "markdown",
   "source": [
    "## Задание 1\n",
    "\n",
    "* Используя модуль datasets библиотеки Scikit-learn, сгенерировать модельный\n",
    "набор данных для задачи бинарной классификации в виде двух облаков точек: общее количество точек равно 200,\n",
    "количество признаков, характеризующих объекты, равно 2. Параметр, определяющий степень рассеянности данных, установить равным 5.5.\n",
    "Обеспечить воспроизводимость результатов, задав значение соответствующему параметру.\n",
    "* Вывести сгенерированные координаты точек и метки классов."
   ],
   "metadata": {
    "collapsed": false
   }
  },
  {
   "cell_type": "code",
   "execution_count": 726,
   "outputs": [
    {
     "data": {
      "text/plain": "(array([[-1.45636579e+01, -8.79652535e+00],\n        [-1.65004622e+01, -7.61499840e+00],\n        [-1.30639335e+01,  1.21207955e+00],\n        [-3.80839830e-01,  8.16052261e+00],\n        [ 9.32344429e-02, -8.49242842e-01],\n        [-3.97704760e-02, -1.11348466e+01],\n        [-8.88296171e-02,  9.27476627e+00],\n        [-2.03000979e+01,  1.11003460e+00],\n        [-5.80874858e+00,  1.12972647e+01],\n        [-7.98288642e+00, -9.69859015e+00],\n        [-1.09228061e+01, -4.91134044e+00],\n        [-1.90766795e+01, -8.85140426e+00],\n        [ 1.10795657e+00,  1.15192322e+01],\n        [-1.15901982e-01,  4.00437000e+00],\n        [-1.07455878e+01, -8.33833237e+00],\n        [-2.53596800e+01,  6.70305993e+00],\n        [-8.47696633e+00, -7.98634237e+00],\n        [-1.48227609e+01, -8.72617827e+00],\n        [-7.79356024e-01,  9.22541893e+00],\n        [-3.86860613e+00, -7.17923021e+00],\n        [-2.01485157e+00, -7.35255121e+00],\n        [-1.54813214e+01, -4.54071547e+00],\n        [-1.17934597e+01, -1.13380654e+01],\n        [ 4.57617203e+00, -1.64291210e+00],\n        [ 2.70087786e+00,  9.77070856e-01],\n        [-7.80476682e+00,  5.69577621e+00],\n        [-8.62314619e-03,  2.46911571e+00],\n        [-4.50357942e+00, -1.07715768e+00],\n        [-1.06356310e+01, -4.91837288e+00],\n        [-5.39968655e+00,  4.53512656e+00],\n        [-6.39752166e+00, -4.23488501e+00],\n        [-1.38798353e+01,  2.60642483e+00],\n        [ 1.96521397e+00, -4.54442100e+00],\n        [-1.18951422e+01, -5.22296713e+00],\n        [-1.22617279e+01,  3.07855591e+00],\n        [ 4.72230223e+00,  6.43869981e+00],\n        [ 2.08082421e+00,  2.64758107e+00],\n        [ 1.20360995e+00, -1.88738777e+00],\n        [-7.46130995e+00, -1.04212532e+01],\n        [-8.66303058e+00, -2.84328256e+00],\n        [-8.42487965e+00,  7.43444610e+00],\n        [-9.60218584e+00,  1.63192762e+00],\n        [-1.71836499e+01, -3.53325591e+00],\n        [ 9.51551224e-02,  3.03495280e+00],\n        [-1.42982268e+01, -6.35964795e+00],\n        [-1.67063067e+01,  9.51817902e+00],\n        [-4.56450454e+00, -1.49483755e+00],\n        [ 6.67200161e+00,  5.81866890e-01],\n        [ 1.43562613e+00,  5.73054388e+00],\n        [-5.06956455e+00,  8.24566606e+00],\n        [-5.62506898e+00, -6.01275930e+00],\n        [-9.87746690e+00, -6.53105454e+00],\n        [ 4.50823749e+00,  6.65544283e+00],\n        [ 7.29251924e+00,  6.26555420e+00],\n        [ 5.66345421e+00,  2.82629662e+00],\n        [ 7.93690480e+00,  2.19851914e-01],\n        [-6.09524740e-01,  1.59578931e+01],\n        [-1.30903924e+01,  6.79848087e+00],\n        [-2.91164518e-01,  2.77496353e+00],\n        [-1.00081157e+01, -1.16347609e+01],\n        [-1.39884967e+01, -8.72607627e+00],\n        [-7.70255148e+00,  3.62890033e-01],\n        [-1.87238521e+00, -4.48025808e+00],\n        [-9.13826133e+00, -4.99956419e+00],\n        [-1.68004061e+01,  8.63765555e-01],\n        [-1.24657717e+01, -7.65181276e+00],\n        [-9.92427278e+00, -7.77416332e+00],\n        [-3.72362713e+00,  8.93472628e-01],\n        [-1.61528472e+01,  6.80508542e+00],\n        [-1.10448971e+00, -1.18827370e+00],\n        [-3.13294434e+00,  7.32344494e+00],\n        [ 4.05397540e+00,  1.64348779e+01],\n        [-1.27378871e+01, -5.66376593e+00],\n        [-1.42428203e+00, -3.35163372e+00],\n        [-1.10238970e+01, -4.26588319e+00],\n        [-1.52525514e+01, -7.30841176e-01],\n        [-3.43285453e+00,  2.29419092e+00],\n        [-1.73234467e+01, -1.36371356e+01],\n        [-3.36520216e+00, -8.98511783e+00],\n        [-1.51342431e+01, -6.88496034e+00],\n        [-1.41938044e+00,  3.16176154e+00],\n        [ 3.29514782e+00,  6.45986643e-01],\n        [-6.36210092e+00,  5.90352160e+00],\n        [-1.78437673e+01,  5.77043117e+00],\n        [ 7.67944534e-01,  3.85563609e+00],\n        [-1.12981157e+01,  4.96257026e-02],\n        [-1.42738430e+00,  7.61197354e+00],\n        [ 2.68442977e-01, -2.81106889e+00],\n        [ 2.95484887e+00,  9.52755132e+00],\n        [ 1.03892886e+01, -6.02349521e+00],\n        [-7.58779759e+00,  2.21945722e+00],\n        [-9.21170517e+00,  6.13986653e+00],\n        [-6.78215615e+00, -2.16984021e+00],\n        [-1.56380816e+00, -1.76461314e+00],\n        [-5.21760169e+00,  9.36466777e+00],\n        [-6.59879207e+00, -4.96631834e+00],\n        [ 1.02728990e+00,  3.99084545e+00],\n        [-1.38499043e+01, -5.07201802e+00],\n        [ 1.36409576e+00, -1.20447116e+01],\n        [-1.79495316e+00,  1.43100963e-01],\n        [-1.13063932e+01,  2.40073483e+00],\n        [-9.98685667e-01,  7.80110697e+00],\n        [-8.25553408e+00,  9.15488912e+00],\n        [-1.38551068e+01, -6.90807518e+00],\n        [ 6.38203375e+00, -6.92428403e+00],\n        [-7.71296538e+00,  1.07024703e+01],\n        [-2.26701855e+00,  1.01099852e+00],\n        [ 4.93448843e+00,  5.42485017e+00],\n        [ 6.69659041e-01,  4.83186024e+00],\n        [-9.90681088e+00, -2.97881609e+00],\n        [-1.38011725e+00,  9.03013813e-01],\n        [ 1.25249938e+00,  5.16384652e+00],\n        [ 8.81606299e+00,  1.05173017e+01],\n        [-1.06602676e+01, -1.07355126e+01],\n        [ 1.06410238e+00,  3.44562249e+00],\n        [-5.30784016e+00, -3.75886801e+00],\n        [-2.37831361e+01, -1.55812501e+01],\n        [-1.56180852e+01,  4.16556770e-01],\n        [-7.68157506e+00,  5.33809325e+00],\n        [-1.24299735e+01, -2.17394810e+00],\n        [-1.04625067e+01, -5.58883890e+00],\n        [-8.43159789e+00, -2.50977760e+00],\n        [-2.68569365e+00,  3.84688757e+00],\n        [-5.68911445e-01,  5.06103742e+00],\n        [-9.89542915e-01,  1.06186514e+01],\n        [-1.26122633e+01, -1.32649255e+00],\n        [-6.59574728e+00, -6.39079417e+00],\n        [-1.01922361e+01,  7.65497925e+00],\n        [ 5.59644124e-01,  7.67117175e+00],\n        [-9.66358643e+00, -2.79216239e+00],\n        [-2.60791505e+00, -4.21731430e-01],\n        [ 4.56440173e+00,  1.27654824e+01],\n        [-7.28986145e+00, -7.69707832e+00],\n        [-1.79225306e+01,  2.82404334e+00],\n        [-1.13957018e+01,  3.74579314e+00],\n        [-3.34368198e+00,  8.96035040e+00],\n        [-5.43900976e+00, -2.42141159e-01],\n        [-2.12023192e+01, -1.46375890e+01],\n        [ 2.80067429e+00,  1.01509214e+01],\n        [-7.16480763e+00, -1.92572881e+01],\n        [ 7.46935207e+00,  8.48773275e+00],\n        [-1.29994704e+01, -5.04695679e+00],\n        [-9.47287452e+00,  1.11462683e+00],\n        [-6.57779323e+00, -7.25227347e+00],\n        [-1.15327500e+01,  4.97232143e+00],\n        [ 3.10018206e+00, -8.25197296e+00],\n        [-2.06859912e+01, -2.01462954e+00],\n        [-3.55075512e+00,  4.64627258e+00],\n        [-5.34820248e+00,  6.48309069e+00],\n        [-2.65462157e+00,  1.08492642e+00],\n        [-2.71465544e+00, -4.75469434e-01],\n        [-8.65863306e+00,  6.13100233e+00],\n        [-3.81894561e+00, -2.27437983e+00],\n        [-3.94038861e-01,  8.59755136e+00],\n        [ 2.41350058e+00, -8.38863441e-01],\n        [-5.76893052e+00,  1.37149902e+01],\n        [ 3.11931396e+00,  8.53375389e+00],\n        [ 5.34609771e+00,  1.52255495e+01],\n        [-6.33472256e-01,  6.66177393e+00],\n        [-1.61382976e+01, -3.50824949e+00],\n        [-5.30466578e+00, -6.22500975e+00],\n        [ 2.99432366e+00, -3.20847806e-01],\n        [-1.96553035e+01, -2.20057612e-02],\n        [-9.41348752e+00, -1.23445903e+01],\n        [-7.94341000e+00,  2.48510490e+00],\n        [-3.86438996e+00,  8.93852077e+00],\n        [-1.10705279e+01,  4.76315286e-01],\n        [ 1.28374143e+00, -7.32207546e-01],\n        [ 3.76528363e+00,  5.58092633e+00],\n        [-2.80847819e+00,  7.63291742e+00],\n        [-1.84610754e+01, -6.41677206e+00],\n        [-2.33545615e+00, -7.40242020e-01],\n        [ 7.64323039e-02, -6.71561682e+00],\n        [ 1.22462315e+01,  3.03899859e+00],\n        [-1.18784602e+01,  1.12053920e+01],\n        [-1.06026657e+01, -3.90632935e+00],\n        [-2.41000600e+00,  3.75169184e+00],\n        [-5.46369404e+00,  2.22434547e+00],\n        [ 1.03611048e+01, -3.27423998e+00],\n        [-5.82428137e+00,  9.13649932e-01],\n        [ 1.65319614e+00,  6.71804199e+00],\n        [-8.44299609e+00, -8.49688442e+00],\n        [-2.88236469e+00,  3.30232049e+00],\n        [ 2.75067577e+00,  4.66261001e+00],\n        [-1.23154370e+00,  7.80758131e+00],\n        [-6.58175765e+00,  1.30532083e+00],\n        [-2.35942582e+00, -7.59074188e+00],\n        [-4.44201303e+00,  1.10675009e+00],\n        [-6.56922053e+00, -6.34561030e+00],\n        [-4.11876701e+00,  1.11412822e+01],\n        [-1.92057894e+01,  5.84315487e-01],\n        [-1.47349525e+01, -2.42435156e-01],\n        [-3.12376169e+00,  4.58586988e+00],\n        [ 1.76034187e+00, -8.27378553e+00],\n        [-2.25624250e+00, -3.24328986e+00],\n        [-9.26044742e+00,  2.65795319e+00],\n        [ 1.16155411e+00,  2.76697928e+00],\n        [-5.35141363e+00,  4.33683457e+00],\n        [-7.63531873e+00, -7.29183974e+00],\n        [ 3.29918906e+00,  7.17020873e+00]]),\n array([1, 1, 1, 0, 1, 1, 0, 1, 0, 1, 1, 1, 0, 0, 1, 1, 1, 1, 0, 1, 1, 1,\n        1, 0, 0, 0, 0, 0, 1, 1, 1, 1, 0, 1, 1, 0, 0, 0, 1, 1, 0, 0, 1, 0,\n        1, 1, 0, 1, 0, 0, 1, 1, 0, 0, 0, 0, 0, 1, 0, 1, 1, 1, 0, 1, 1, 1,\n        1, 0, 1, 1, 0, 0, 1, 1, 1, 1, 0, 1, 0, 1, 0, 0, 1, 1, 0, 1, 0, 0,\n        0, 0, 1, 0, 1, 0, 0, 1, 0, 1, 1, 0, 1, 0, 0, 1, 0, 0, 0, 0, 0, 1,\n        0, 0, 0, 1, 0, 1, 1, 1, 0, 1, 1, 1, 0, 0, 0, 1, 1, 1, 0, 1, 0, 0,\n        1, 1, 1, 0, 0, 1, 0, 1, 0, 1, 1, 1, 1, 0, 1, 0, 0, 0, 0, 0, 1, 0,\n        0, 0, 0, 0, 0, 1, 1, 0, 1, 1, 0, 0, 1, 1, 0, 0, 1, 0, 0, 0, 0, 1,\n        0, 0, 0, 1, 0, 1, 0, 0, 0, 1, 1, 1, 1, 0, 1, 1, 0, 1, 1, 1, 0, 0,\n        1, 0]))"
     },
     "execution_count": 726,
     "metadata": {},
     "output_type": "execute_result"
    }
   ],
   "source": [
    "class BinaryClassification:\n",
    "\n",
    "    def __init__(self, n_samples=200, n_features=2, cluster_std=5.5, random_state=1, centers=2):\n",
    "        self.X, self.y = make_blobs(\n",
    "            n_samples=n_samples,\n",
    "            n_features=n_features,\n",
    "            cluster_std=cluster_std,\n",
    "            random_state=random_state,\n",
    "            centers=centers\n",
    "        )\n",
    "\n",
    "    def show_classes_scatter(self):\n",
    "        pylab.scatter(\n",
    "            self.X[:, 0],\n",
    "            self.X[:, 1],\n",
    "            c=self.y ,\n",
    "            cmap=ListedColormap(['red', 'blue'])\n",
    "        )\n",
    "        pylab.show()\n",
    "\n",
    "binary1 = BinaryClassification()\n",
    "binary1.X, binary1.y"
   ],
   "metadata": {
    "collapsed": false,
    "pycharm": {
     "name": "#%%\n"
    }
   }
  },
  {
   "cell_type": "markdown",
   "source": [
    "Выполнить визуализацию сгенерированных облаков.\n",
    "Указание: для представления объектов разных классов точками разных цветов можно использовать объект ListedColormap (инструментарий библиотеки Matplotlib):\n",
    "from matplotlib.colors import ListedColormap\n",
    "colors = ListedColormap(['red', 'blue']) # список используемых цветов\n",
    "После этого объект с именем colors можно использовать в качестве значения параметра cmap в pylab.scatter."
   ],
   "metadata": {
    "collapsed": false
   }
  },
  {
   "cell_type": "code",
   "execution_count": 727,
   "outputs": [
    {
     "data": {
      "text/plain": "<Figure size 432x288 with 1 Axes>",
      "image/png": "[encoded data removed]"
     },
     "metadata": {
      "needs_background": "light"
     },
     "output_type": "display_data"
    }
   ],
   "source": [
    "binary1.show_classes_scatter()"
   ],
   "metadata": {
    "collapsed": false,
    "pycharm": {
     "name": "#%%\n"
    }
   }
  },
  {
   "cell_type": "markdown",
   "source": [
    "Поэкспериментировать с величиной шума: задать значения соответствующего параметра равными 4.0, 7.0 и 10.0,\n",
    "вывести графики в одном ряду с заголовками, сообщающими об используемом значении параметра шума."
   ],
   "metadata": {
    "collapsed": false
   }
  },
  {
   "cell_type": "code",
   "execution_count": 728,
   "outputs": [],
   "source": [
    "binary2 = BinaryClassification(cluster_std=4.0)\n",
    "binary3 = BinaryClassification(cluster_std=7.0)\n",
    "binary4 = BinaryClassification(cluster_std=10.0)"
   ],
   "metadata": {
    "collapsed": false,
    "pycharm": {
     "name": "#%%\n"
    }
   }
  },
  {
   "cell_type": "code",
   "execution_count": 729,
   "outputs": [
    {
     "name": "stdout",
     "output_type": "stream",
     "text": [
      "Величина шума: 4.0\n"
     ]
    },
    {
     "data": {
      "text/plain": "<Figure size 432x288 with 1 Axes>",
      "image/png": "[encoded data removed]"
     },
     "metadata": {
      "needs_background": "light"
     },
     "output_type": "display_data"
    },
    {
     "name": "stdout",
     "output_type": "stream",
     "text": [
      "Величина шума: 7.0\n"
     ]
    },
    {
     "data": {
      "text/plain": "<Figure size 432x288 with 1 Axes>",
      "image/png": "[encoded data removed]"
     },
     "metadata": {
      "needs_background": "light"
     },
     "output_type": "display_data"
    },
    {
     "name": "stdout",
     "output_type": "stream",
     "text": [
      "Величина шума: 10.0\n"
     ]
    },
    {
     "data": {
      "text/plain": "<Figure size 432x288 with 1 Axes>",
      "image/png": "[encoded data removed]"
     },
     "metadata": {
      "needs_background": "light"
     },
     "output_type": "display_data"
    }
   ],
   "source": [
    "print(f'Величина шума: {4.0}')\n",
    "binary2.show_classes_scatter()\n",
    "\n",
    "print(f'Величина шума: {7.0}')\n",
    "binary3.show_classes_scatter()\n",
    "\n",
    "print(f'Величина шума: {10.0}')\n",
    "binary4.show_classes_scatter()"
   ],
   "metadata": {
    "collapsed": false,
    "pycharm": {
     "name": "#%%\n"
    }
   }
  },
  {
   "cell_type": "markdown",
   "source": [
    "## Задание 2\n",
    "\n",
    "Выполнить разбиение набора данных, полученного в п. 1 задания 1, на\n",
    "обучающую и тестовую выборки в соотношении 70/30."
   ],
   "metadata": {
    "collapsed": false
   }
  },
  {
   "cell_type": "code",
   "execution_count": 730,
   "outputs": [],
   "source": [
    "\n",
    "X_train, X_test, y_train, y_test = train_test_split(\n",
    "    binary1.X,\n",
    "    binary1.y,\n",
    "    test_size=0.3,\n",
    "    random_state=0\n",
    ")"
   ],
   "metadata": {
    "collapsed": false,
    "pycharm": {
     "name": "#%%\n"
    }
   }
  },
  {
   "cell_type": "markdown",
   "source": [
    "Создать модель линейной классификации, использующую L2-регуляризатор, и\n",
    "обучить ее на обучающей выборке (значение коэффициента регуляризации\n",
    "оставить по умолчанию)."
   ],
   "metadata": {
    "collapsed": false
   }
  },
  {
   "cell_type": "code",
   "execution_count": 731,
   "outputs": [],
   "source": [
    "class LinearRegressionL:\n",
    "\n",
    "    def __init__(self, model_type, coef=1.0, loss=None):\n",
    "        self.coef = coef\n",
    "        self.model_type = model_type\n",
    "        if model_type == 'L1':\n",
    "            self.model = Lasso(alpha=coef)\n",
    "        elif model_type == 'L2':\n",
    "            self.model = Ridge(alpha=coef)\n",
    "        elif model_type == 'RidgeClassifier':\n",
    "            self.model = RidgeClassifier(alpha=coef)\n",
    "        else:\n",
    "            self.model = SGDClassifier(loss=loss, shuffle=False)\n",
    "\n",
    "\n",
    "    def fit(self, X, y):\n",
    "        self.model.fit(X, y)\n",
    "\n",
    "    def predict(self, X):\n",
    "        return self.model.predict(X)\n",
    "\n",
    "    def fetch_accuracy_score(self, X, y):\n",
    "        return self.model.score(X, y)"
   ],
   "metadata": {
    "collapsed": false,
    "pycharm": {
     "name": "#%%\n"
    }
   }
  },
  {
   "cell_type": "code",
   "execution_count": 732,
   "outputs": [],
   "source": [
    "ridge = LinearRegressionL(model_type='RidgeClassifier')\n",
    "ridge.fit(X_train, y_train)\n",
    "y_pred_L2 = ridge.predict(X_test)\n",
    "# print(regression_L2)"
   ],
   "metadata": {
    "collapsed": false,
    "pycharm": {
     "name": "#%%\n"
    }
   }
  },
  {
   "cell_type": "markdown",
   "source": [
    "Получить предсказания обученной модели для объектов тестовой выборки.\n",
    "Вывести массив ответов на тестовой выборке и массив предсказанных моделью значений. Оценить качество классификации\n",
    "с помощью метрики accuracy; дать интерпретацию полученной оценки."
   ],
   "metadata": {
    "collapsed": false
   }
  },
  {
   "cell_type": "code",
   "execution_count": 733,
   "outputs": [
    {
     "data": {
      "text/plain": "(array([0, 1, 0, 1, 0, 0, 1, 1, 0, 1, 1, 1, 0, 0, 0, 1, 1, 0, 0, 1, 0, 0,\n        1, 1, 1, 0, 1, 1, 0, 1, 1, 0, 0, 0, 1, 0, 1, 1, 1, 0, 1, 1, 0, 1,\n        0, 1, 0, 1, 0, 1, 0, 0, 0, 1, 0, 0, 1, 1, 0, 0]),\n array([0, 1, 0, 1, 0, 0, 1, 1, 0, 1, 1, 1, 0, 0, 0, 1, 1, 0, 0, 1, 0, 0,\n        1, 1, 1, 0, 0, 1, 0, 1, 1, 0, 0, 0, 1, 0, 1, 0, 1, 0, 1, 1, 0, 1,\n        0, 1, 0, 1, 0, 1, 0, 0, 0, 1, 0, 0, 1, 1, 0, 0]))"
     },
     "execution_count": 733,
     "metadata": {},
     "output_type": "execute_result"
    }
   ],
   "source": [
    "y_test, y_pred_L2"
   ],
   "metadata": {
    "collapsed": false,
    "pycharm": {
     "name": "#%%\n"
    }
   }
  },
  {
   "cell_type": "markdown",
   "source": [
    "Точность модели примерно 96%"
   ],
   "metadata": {
    "collapsed": false
   }
  },
  {
   "cell_type": "code",
   "execution_count": 734,
   "outputs": [
    {
     "data": {
      "text/plain": "0.9666666666666667"
     },
     "execution_count": 734,
     "metadata": {},
     "output_type": "execute_result"
    }
   ],
   "source": [
    "accuracy_score(y_test, y_pred_L2)"
   ],
   "metadata": {
    "collapsed": false,
    "pycharm": {
     "name": "#%%\n"
    }
   }
  },
  {
   "cell_type": "markdown",
   "source": [
    "Создать несколько моделей линейной классификации, использующих L2- и L1- регуляризаторы и различные функции потерь,\n",
    "используя SGDClassifier. Обучить построенные модели на обучающей выборке. Оценить качество всех полученных классификаторов."
   ],
   "metadata": {
    "collapsed": false
   }
  },
  {
   "cell_type": "code",
   "execution_count": 735,
   "outputs": [
    {
     "data": {
      "text/plain": "0.6897039879220669"
     },
     "execution_count": 735,
     "metadata": {},
     "output_type": "execute_result"
    }
   ],
   "source": [
    "regression_L1 = LinearRegressionL(model_type='L1', coef=0.001)\n",
    "regression_L1.fit(X_train, y_train)\n",
    "regression_L1.fetch_accuracy_score(X_test, y_test)"
   ],
   "metadata": {
    "collapsed": false,
    "pycharm": {
     "name": "#%%\n"
    }
   }
  },
  {
   "cell_type": "code",
   "execution_count": 736,
   "outputs": [
    {
     "data": {
      "text/plain": "0.6897745795305712"
     },
     "execution_count": 736,
     "metadata": {},
     "output_type": "execute_result"
    }
   ],
   "source": [
    "regression_L2 = LinearRegressionL(model_type='L2', coef=0.001)\n",
    "regression_L2.fit(X_train, y_train)\n",
    "regression_L2.fetch_accuracy_score(X_test, y_test)"
   ],
   "metadata": {
    "collapsed": false,
    "pycharm": {
     "name": "#%%\n"
    }
   }
  },
  {
   "cell_type": "code",
   "execution_count": 737,
   "outputs": [
    {
     "data": {
      "text/plain": "0.8666666666666667"
     },
     "execution_count": 737,
     "metadata": {},
     "output_type": "execute_result"
    }
   ],
   "source": [
    "# Метод опорных векторов\n",
    "classifier_hinge = LinearRegressionL(model_type='SGDClassifier', loss='hinge')\n",
    "classifier_hinge.fit(X_train, y_train)\n",
    "classifier_hinge.fetch_accuracy_score(X_test, y_test)"
   ],
   "metadata": {
    "collapsed": false,
    "pycharm": {
     "name": "#%%\n"
    }
   }
  },
  {
   "cell_type": "code",
   "execution_count": 738,
   "outputs": [
    {
     "data": {
      "text/plain": "0.95"
     },
     "execution_count": 738,
     "metadata": {},
     "output_type": "execute_result"
    }
   ],
   "source": [
    "# Логическая регрессия\n",
    "classifier_log = LinearRegressionL(model_type='SGDClassifier', loss='log')\n",
    "classifier_log.fit(X_train, y_train)\n",
    "classifier_log.fetch_accuracy_score(X_test, y_test)"
   ],
   "metadata": {
    "collapsed": false,
    "pycharm": {
     "name": "#%%\n"
    }
   }
  },
  {
   "cell_type": "code",
   "execution_count": 739,
   "outputs": [
    {
     "data": {
      "text/plain": "0.9833333333333333"
     },
     "execution_count": 739,
     "metadata": {},
     "output_type": "execute_result"
    }
   ],
   "source": [
    "# Квадратичная ошибка\n",
    "classifier_squared = LinearRegressionL(model_type='SGDClassifier', loss='squared_hinge')\n",
    "classifier_squared.fit(X_train, y_train)\n",
    "classifier_squared.fetch_accuracy_score(X_test, y_test)"
   ],
   "metadata": {
    "collapsed": false,
    "pycharm": {
     "name": "#%%\n"
    }
   }
  },
  {
   "cell_type": "markdown",
   "source": [
    "Выбрать две лучшие (по метрике accuracy) модели из числа классификаторов,\n",
    "полученных при выполнении задания 2. Используя инструментарий модуля sklearn.metrics, оценить качество этих моделей\n",
    "с помощью метрик precision, recall и F–меры."
   ],
   "metadata": {
    "collapsed": false
   }
  },
  {
   "cell_type": "code",
   "execution_count": 740,
   "outputs": [],
   "source": [
    "def print_metrics(y_pred):\n",
    "    print(f'precision: {precision_score(y_test, y_pred)}\\n'\n",
    "          f'recall: {recall_score(y_test, y_pred)}\\n'\n",
    "          f'F-score: {f1_score(y_test, y_pred)}\\n')"
   ],
   "metadata": {
    "collapsed": false,
    "pycharm": {
     "name": "#%%\n"
    }
   }
  },
  {
   "cell_type": "markdown",
   "source": [
    "* 0% ложных срабатываний\n",
    "\n",
    "* выявлено 90% объектов класса  +1"
   ],
   "metadata": {
    "collapsed": false
   }
  },
  {
   "cell_type": "code",
   "execution_count": 741,
   "outputs": [
    {
     "name": "stdout",
     "output_type": "stream",
     "text": [
      "precision: 1.0\n",
      "recall: 0.9\n",
      "F-score: 0.9473684210526316\n",
      "\n"
     ]
    }
   ],
   "source": [
    "y_pred_log = classifier_log.predict(X_test)\n",
    "print_metrics(y_pred_log)"
   ],
   "metadata": {
    "collapsed": false,
    "pycharm": {
     "name": "#%%\n"
    }
   }
  },
  {
   "cell_type": "markdown",
   "source": [
    "* 0% ложных срабатываний\n",
    "\n",
    "* выявлено 96% объектов класса  +1"
   ],
   "metadata": {
    "collapsed": false
   }
  },
  {
   "cell_type": "code",
   "execution_count": 742,
   "outputs": [
    {
     "name": "stdout",
     "output_type": "stream",
     "text": [
      "precision: 1.0\n",
      "recall: 0.9666666666666667\n",
      "F-score: 0.983050847457627\n",
      "\n"
     ]
    }
   ],
   "source": [
    "y_pred_squared = classifier_squared.predict(X_test)\n",
    "print_metrics(y_pred_squared)"
   ],
   "metadata": {
    "collapsed": false,
    "pycharm": {
     "name": "#%%\n"
    }
   }
  },
  {
   "cell_type": "markdown",
   "source": [
    "Получить матрицу ошибок. Используя эту матрицу, посчитать (по формулам) значения precision, recall и F–меры, сравнить\n",
    "полученные значения с результатами, полученными в п. 1."
   ],
   "metadata": {
    "collapsed": false
   }
  },
  {
   "cell_type": "code",
   "execution_count": 743,
   "outputs": [
    {
     "data": {
      "text/plain": "array([[30,  0],\n       [ 3, 27]])"
     },
     "execution_count": 743,
     "metadata": {},
     "output_type": "execute_result"
    }
   ],
   "source": [
    "matrix_log = confusion_matrix(y_test, y_pred_log)\n",
    "matrix_log"
   ],
   "metadata": {
    "collapsed": false,
    "pycharm": {
     "name": "#%%\n"
    }
   }
  },
  {
   "cell_type": "markdown",
   "source": [
    "*precision* = TP / ( TP + FP ) = 1\n",
    "\n",
    "*recall* = TP / ( TP + FN ) = 0.90\n",
    "\n",
    "*F-score* = (2 * *precision* * *recall*) / (*precision* + *recall*) = 0.947"
   ],
   "metadata": {
    "collapsed": false
   }
  },
  {
   "cell_type": "code",
   "execution_count": 744,
   "outputs": [
    {
     "data": {
      "text/plain": "array([[30,  0],\n       [ 1, 29]])"
     },
     "execution_count": 744,
     "metadata": {},
     "output_type": "execute_result"
    }
   ],
   "source": [
    "matrix_squared = confusion_matrix(y_test,y_pred_squared)\n",
    "matrix_squared"
   ],
   "metadata": {
    "collapsed": false,
    "pycharm": {
     "name": "#%%\n"
    }
   }
  },
  {
   "cell_type": "markdown",
   "source": [
    "*precision* = TP / ( TP + FP ) = 1\n",
    "\n",
    "*recall* = TP / ( TP + FN ) = 0.967\n",
    "\n",
    "*F-score* = (2 * *precision* * *recall*) / (*precision* + *recall*) = 0.983"
   ],
   "metadata": {
    "collapsed": false
   }
  },
  {
   "cell_type": "markdown",
   "source": [
    "* Получить для рассматриваемых моделей значения FPR и TPR (на обучающей и тестовой выборке отдельно).\n",
    "Выполнить вычисления с помощью функции roc_curve и непосредственно по матрице ошибок. Сравнить результаты.\n",
    "* Построить ROC-кривые (для обучающей и тестовой выборки)\n",
    "\n",
    "FPR (ось абцисс) = FP / (FP + TN)\n",
    "\n",
    "TPR (ось ординат) = TP / (TP + FN)"
   ],
   "metadata": {
    "collapsed": false,
    "pycharm": {
     "name": "#%% md\n"
    }
   }
  },
  {
   "cell_type": "code",
   "execution_count": 745,
   "outputs": [],
   "source": [
    "def calculate_roc(classifier):\n",
    "    # preds\n",
    "    y_train_pred = classifier.predict(X_train)\n",
    "    y_test_pred = classifier.predict(X_test)\n",
    "\n",
    "    # matrix\n",
    "    matrix_train = confusion_matrix(y_train, y_train_pred)\n",
    "    matrix_test = confusion_matrix(y_test, y_test_pred)\n",
    "\n",
    "    # fpr, tpr\n",
    "    tp_train, fp_train, fn_train, tn_train = fetch_params(matrix_train)\n",
    "    tp_test, fp_test, fn_test, tn_test = fetch_params(matrix_test)\n",
    "    fpr_train, tpr_train = fp_train/(fp_train + tn_train), tp_train/(tp_train + fn_train)\n",
    "    fpr_test, tpr_test = fp_test/(fp_test + tn_test), tp_test/(tp_test + fn_test)\n",
    "\n",
    "    #roc_curve\n",
    "    fpr_train_roc, tpr_train_roc, _ = roc_curve(y_train, y_train_pred)\n",
    "    fpr_test_roc, tpr_test_roc, _ = roc_curve(y_test, y_test_pred)\n",
    "\n",
    "    print(classifier.model, '\\n')\n",
    "    print_roc_params('По матрице ошибок (train)', fpr_train, tpr_train)\n",
    "    print_roc_params('roc_curve (train)', fpr_train_roc[1], tpr_train_roc[1])\n",
    "    show_roc_plot(classifier, X_train, y_train)\n",
    "\n",
    "    print_roc_params('По матрице ошибок (test)', fpr_test, tpr_test)\n",
    "    print_roc_params('roc_curve (test)', fpr_test_roc[1], tpr_test_roc[1])\n",
    "    show_roc_plot(classifier, X_test, y_test)\n",
    "\n",
    "def print_roc_params(title, fpr, tpr):\n",
    "    print(f'{title}\\n')\n",
    "    print(f\"FPR = {fpr}\\nTRP = {tpr}\\n\")\n",
    "\n",
    "def fetch_params(matrix):\n",
    "    return matrix[0][0], matrix[0][1], matrix[1][0] , matrix[1][1]\n",
    "\n",
    "# (Оценки вероятности.)\n",
    "def show_roc_plot(cl, x, y):\n",
    "    try:\n",
    "        y_pred = cl.model.predict_proba(x)[:,1]\n",
    "    except Exception:\n",
    "        y_pred = cl.model.decision_function(x)\n",
    "\n",
    "    fpr, tpr, threshold = roc_curve(y, y_pred)\n",
    "    # площадь под ROC-кривой\n",
    "    print(f'AUC-ROC: {auc(fpr, tpr)}')\n",
    "    plt.plot(fpr, tpr)\n",
    "    plt.ylabel('TPR')\n",
    "    plt.xlabel('FPR')\n",
    "    plt.show()"
   ],
   "metadata": {
    "collapsed": false,
    "pycharm": {
     "name": "#%%\n"
    }
   }
  },
  {
   "cell_type": "code",
   "execution_count": 746,
   "outputs": [
    {
     "name": "stdout",
     "output_type": "stream",
     "text": [
      "SGDClassifier(loss='log', shuffle=False) \n",
      "\n",
      "По матрице ошибок (train)\n",
      "\n",
      "FPR = 0.0625\n",
      "TRP = 0.868421052631579\n",
      "\n",
      "roc_curve (train)\n",
      "\n",
      "FPR = 0.05714285714285714\n",
      "TRP = 0.8571428571428571\n",
      "\n",
      "AUC-ROC: 0.9495918367346938\n"
     ]
    },
    {
     "data": {
      "text/plain": "<Figure size 432x288 with 1 Axes>",
      "image/png": "[encoded data removed]"
     },
     "metadata": {
      "needs_background": "light"
     },
     "output_type": "display_data"
    },
    {
     "name": "stdout",
     "output_type": "stream",
     "text": [
      "По матрице ошибок (test)\n",
      "\n",
      "FPR = 0.0\n",
      "TRP = 0.9090909090909091\n",
      "\n",
      "roc_curve (test)\n",
      "\n",
      "FPR = 0.0\n",
      "TRP = 0.9\n",
      "\n",
      "AUC-ROC: 0.99\n"
     ]
    },
    {
     "data": {
      "text/plain": "<Figure size 432x288 with 1 Axes>",
      "image/png": "[encoded data removed]"
     },
     "metadata": {
      "needs_background": "light"
     },
     "output_type": "display_data"
    }
   ],
   "source": [
    "calculate_roc(classifier_log)"
   ],
   "metadata": {
    "collapsed": false,
    "pycharm": {
     "name": "#%%\n"
    }
   }
  },
  {
   "cell_type": "code",
   "execution_count": 747,
   "outputs": [
    {
     "name": "stdout",
     "output_type": "stream",
     "text": [
      "SGDClassifier(loss='squared_hinge', shuffle=False) \n",
      "\n",
      "По матрице ошибок (train)\n",
      "\n",
      "FPR = 0.11267605633802817\n",
      "TRP = 0.8985507246376812\n",
      "\n",
      "roc_curve (train)\n",
      "\n",
      "FPR = 0.11428571428571428\n",
      "TRP = 0.9\n",
      "\n",
      "AUC-ROC: 0.9591836734693877\n"
     ]
    },
    {
     "data": {
      "text/plain": "<Figure size 432x288 with 1 Axes>",
      "image/png": "[encoded data removed]"
     },
     "metadata": {
      "needs_background": "light"
     },
     "output_type": "display_data"
    },
    {
     "name": "stdout",
     "output_type": "stream",
     "text": [
      "По матрице ошибок (test)\n",
      "\n",
      "FPR = 0.0\n",
      "TRP = 0.967741935483871\n",
      "\n",
      "roc_curve (test)\n",
      "\n",
      "FPR = 0.0\n",
      "TRP = 0.9666666666666667\n",
      "\n",
      "AUC-ROC: 0.9911111111111112\n"
     ]
    },
    {
     "data": {
      "text/plain": "<Figure size 432x288 with 1 Axes>",
      "image/png": "[encoded data removed]"
     },
     "metadata": {
      "needs_background": "light"
     },
     "output_type": "display_data"
    }
   ],
   "source": [
    "calculate_roc(classifier_squared)"
   ],
   "metadata": {
    "collapsed": false,
    "pycharm": {
     "name": "#%%\n"
    }
   }
  },
  {
   "cell_type": "markdown",
   "source": [
    "AUC-ROC >= 0.94 => реализованные класификаторы хорошо показывают себя"
   ],
   "metadata": {
    "collapsed": false
   }
  },
  {
   "cell_type": "markdown",
   "source": [
    "## Lab 6"
   ],
   "metadata": {
    "collapsed": false
   }
  },
  {
   "cell_type": "markdown",
   "source": [
    "Выполнить оценку качества моделей линейной классификации, созданных при\n",
    "выполнении задания 2 по бинарной линейной классификации (в файле 5_2_Бинарная классификация),\n",
    "с помощью кросс-валидации (использовать метрику accuracy, количество блоков, равное 10).\n",
    "Для каждой модели вывести массив показателей качества, итоговую оценку (среднее значение) и\n",
    "среднеквадратичное отклонение. Выполнить анализ полученных результатов."
   ],
   "metadata": {
    "collapsed": false
   }
  },
  {
   "cell_type": "code",
   "execution_count": 749,
   "outputs": [
    {
     "name": "stdout",
     "output_type": "stream",
     "text": [
      "SGDClassifier(loss='log', shuffle=False)\n",
      "Показатели качества: [0.95 0.75 0.9  0.95 0.8  1.   0.8  0.95 0.75 0.85]\n",
      "accuracy = 0.87\n",
      "σ = 0.087\n",
      "\n",
      "\n",
      "SGDClassifier(loss='squared_hinge', shuffle=False)\n",
      "Показатели качества: [0.95 0.8  0.9  0.95 0.9  1.   0.8  0.9  0.8  0.85]\n",
      "accuracy = 0.885\n",
      "σ = 0.067\n",
      "\n",
      "\n"
     ]
    }
   ],
   "source": [
    "def print_scores(scores):\n",
    "    print(f'Показатели качества: {scores}\\n'\n",
    "          f'accuracy = {round(scores.mean(), 3)}\\n'\n",
    "          f'σ = {round(scores.std(), 3)}\\n\\n')\n",
    "\n",
    "blocks = 10\n",
    "\n",
    "print(classifier_log.model)\n",
    "print_scores(cross_val_score(classifier_log.model, binary1.X, binary1.y, cv=blocks))\n",
    "\n",
    "print(classifier_squared.model)\n",
    "print_scores(cross_val_score(classifier_squared.model, binary1.X, binary1.y, cv=blocks))\n"
   ],
   "metadata": {
    "collapsed": false,
    "pycharm": {
     "name": "#%%\n"
    }
   }
  }
 ],
 "metadata": {
  "kernelspec": {
   "display_name": "Python 3",
   "language": "python",
   "name": "python3"
  },
  "language_info": {
   "codemirror_mode": {
    "name": "ipython",
    "version": 2
   },
   "file_extension": ".py",
   "mimetype": "text/x-python",
   "name": "python",
   "nbconvert_exporter": "python",
   "pygments_lexer": "ipython2",
   "version": "2.7.6"
  }
 },
 "nbformat": 4,
 "nbformat_minor": 0
}