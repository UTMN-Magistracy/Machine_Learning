{
 "metadata": {
  "kernelspec": {
   "display_name": "Python 3",
   "language": "python",
   "name": "python3"
  },
  "language_info": {
   "name": "python",
   "version": "3.7.8",
   "mimetype": "text/x-python",
   "codemirror_mode": {
    "name": "ipython",
    "version": 3
   },
   "pygments_lexer": "ipython3",
   "nbconvert_exporter": "python",
   "file_extension": ".py"
  }
 },
 "nbformat_minor": 4,
 "nbformat": 4,
 "cells": [
  {
   "cell_type": "markdown",
   "source": [
    "# Линейная регрессия\n",
    "\n",
    "## Теоретическая часть\n",
    "\n",
    "## Построение предсказаний\n",
    "\n",
    "__Вспомнить из лекции:__\n",
    "* Как выполняются предсказания с помощью модели линейной регрессии?\n",
    "* Как интерпретировать веса в модели линейной регрессии?\n",
    "\n",
    "### **Задача 1**.\n",
    "\n",
    "Какие предсказания сделает линейная модель\n",
    "\n",
    "$$a(x) = w_1 x_1 + w_2 x_2 + w_3 x_3 + b$$\n",
    "\n",
    "для объекта $x = (7, -3, 2)$, вектора весов $w = (0.5, 1.5, -2)$ и сдвига $b=10$?\n",
    "\n"
   ],
   "metadata": {}
  },
  {
   "cell_type": "code",
   "source": [
    "# Код для получения ответа.\n",
    "# Пояснения обязательны!\n",
    "a_x = 7 * 0.5 + (-3) * 1.5 + 2 * (-2) + 10\n",
    "print(f'a(x) = {a_x}')"
   ],
   "metadata": {},
   "execution_count": 50,
   "outputs": [
    {
     "name": "stdout",
     "output_type": "stream",
     "text": [
      "a(x) = 5.0\n"
     ]
    }
   ]
  },
  {
   "cell_type": "markdown",
   "source": [
    "### **Задача 2**.\n",
    "\n",
    "Дана матрица $X$ размера $\\ell \\times (d+1)$, $\\ell$ - число объектов, $(d+1)$ - число признаков. В матрицу $X$ входит константный признак, который равен 1 для всех объектов. Также дан вектор весов $w$ длины $(d+1)$. Записать в матричном виде (через матричное произведение), как будут выполняться предсказания для этой матрицы.\n",
    "\n",
    "Указать размерности всех матриц, входящих в формулу, проверить корректность выполнения матричных операций (с точки зрения размерности)."
   ],
   "metadata": {}
  },
  {
   "cell_type": "markdown",
   "source": [
    "**Решение задачи 2:** \n",
    "\n",
    "текст решения\n",
    "\n",
    "Строка - описание объекта,\n",
    "столбец - значение признака на разных объектах (X)\n",
    "\n",
    "$X = \\begin{pmatrix}\n",
    "     x_{11} & x_{12} & ... & x_{1m} \\\\\n",
    "     x_{21} & x_{22} & ... & x_{2m} \\\\\n",
    "     . . . &  . . . & . . . & . . .  \\\\\n",
    "     x_{n1} & x_{n2} & ... & x_{nm}\n",
    "     \\end{pmatrix}$ , n = $\\ell$, m = $(d+1)$\n",
    "\n",
    "\n",
    "$w = \\begin{pmatrix}\n",
    "     w_{1} \\\\\n",
    "     w_{2} \\\\\n",
    "     ... \\\\\n",
    "     w_{m} \\\\\n",
    "     \\end{pmatrix} $ , m = $(d+1)$\n",
    "\n",
    "$\n",
    "   𝑿 * w =\n",
    "   \\begin{pmatrix}\n",
    "    x_{11}*w_{1} & + & ... & + & x_{1m}*w_{m} \\\\\n",
    "    x_{21}*w_{1} & + & ... & + & x_{2m}*w_{m} \\\\\n",
    "   . . . &  +  & . . . & +  & . . .  \\\\\n",
    "    x_{n1}*w_{1} & + & . . . & + & x_{nm}*w_{m} \\\\\n",
    "   \\end{pmatrix} $"
   ],
   "metadata": {}
  },
  {
   "cell_type": "markdown",
   "source": [
    "### **Задача 3**.\n",
    "\n",
    "Визуализируйте решающее правило для $d=1$, $w_1=3$, $w_0=-2$. За что отвечает сдвиг $w_0$? Почему исключение сдвига из модели $w_0=0$, скорее всего, ухудшит качество предсказаний?"
   ],
   "metadata": {}
  },
  {
   "cell_type": "code",
   "source": [
    "import numpy as np\n",
    "import matplotlib.pyplot as plt\n",
    "\n",
    "def predict_feature(features, weight, bias):\n",
    "    return weight*features + bias\n",
    "\"\"\"\n",
    "переделать на 3D график\n",
    "\"\"\"\n",
    "def present_plot(x, y):\n",
    "    plt.plot(x, y, 'o')\n",
    "    plt.plot([-3, 3], [0, 0], linestyle=\"-\")\n",
    "    weight, bias = np.polyfit(x, y, 1)\n",
    "    print(weight, bias)\n",
    "    plt.plot(x, predict_feature(features=x, weight=weight, bias=bias))"
   ],
   "metadata": {},
   "execution_count": 51,
   "outputs": []
  },
  {
   "cell_type": "markdown",
   "source": [
    "$$a(x) = 3 x_1 -2$$"
   ],
   "metadata": {
    "collapsed": false,
    "pycharm": {
     "name": "#%% md\n"
    }
   },
   "execution_count": 47
  },
  {
   "cell_type": "code",
   "execution_count": 52,
   "outputs": [
    {
     "name": "stdout",
     "output_type": "stream",
     "text": [
      "2.9999999999999996 -2.0000000000000004\n"
     ]
    },
    {
     "data": {
      "text/plain": "<Figure size 432x288 with 1 Axes>",
      "image/png": "[encoded data removed]"
     },
     "metadata": {
      "needs_background": "light"
     },
     "output_type": "display_data"
    }
   ],
   "source": [
    "# Код, реализующий визуализацию.\n",
    "# Пояснения обязательны!\n",
    "x = np.array([-3, 3])\n",
    "y = np.array([-11, 7])\n",
    "present_plot(x=x, y=y)"
   ],
   "metadata": {
    "collapsed": false,
    "pycharm": {
     "name": "#%%\n"
    }
   }
  },
  {
   "cell_type": "markdown",
   "source": [
    "$$a(x) = 3 x_1 $$\n",
    "\n",
    "𝒘𝟎 - ордината точки пересечения прямой с осью ордина"
   ],
   "metadata": {
    "collapsed": false
   }
  },
  {
   "cell_type": "code",
   "execution_count": 53,
   "outputs": [
    {
     "name": "stdout",
     "output_type": "stream",
     "text": [
      "2.9999999999999996 0.0\n"
     ]
    },
    {
     "data": {
      "text/plain": "<Figure size 432x288 with 1 Axes>",
      "image/png": "[encoded data removed]"
     },
     "metadata": {
      "needs_background": "light"
     },
     "output_type": "display_data"
    }
   ],
   "source": [
    "# Код, реализующий визуализацию.\n",
    "# Пояснения обязательны!\n",
    "x = np.array([-3, 3])\n",
    "y = np.array([-9, 9])\n",
    "present_plot(x=x, y=y)"
   ],
   "metadata": {
    "collapsed": false,
    "pycharm": {
     "name": "#%%\n"
    }
   }
  },
  {
   "cell_type": "markdown",
   "source": [
    "### **Вопрос:** \n",
    "\n",
    "Какой геометрический объект задает решающее правило линейной регрессии в трехмерном случае (два признака)? В многомерном случае (больше двух признаков)?\n"
   ],
   "metadata": {}
  },
  {
   "cell_type": "markdown",
   "source": "**Ответ на вопрос:** \n\nтекст ответа\n",
   "metadata": {}
  },
  {
   "cell_type": "markdown",
   "source": "## Обучение линейной регрессии\n__Вспомнить из лекции:__\n* Как выполняется обучение линейной регрессии на основе среднеквадратической ошибки? \n* Какой функционал при этом минимизируется?\n* Как выглядит аналитическое решение задачи обучения (формула для определения весов)?\n* Почему на практике не используется аналитическое решение?\n* Каков оптимизационный алгоритм (как рассчитываются веса)?\n\n### **Задача 4**.\n\nДаны матрица объекты-признаки $X$ размера $\\ell \\times (d+1)$, вектор правильных ответов $Y$ длины $\\ell$ и вектор весов $w$ длины $(d+1)$, $\\ell$ - число объектов, $(d+1)$ - число признаков. Указать все ошибки, допущенные в записи выражения для среднеквадратичной ошибки:\n\n$$\\| Xw - Y \\| = \\frac 1 \\ell \\sum_{j=1}^d \\bigl ( \\sum_{i=1}^\\ell x_{ij} w_{j} - y_j   \\bigr )^2$$\n\nЗаписать правильное выражение.\n",
   "metadata": {}
  },
  {
   "cell_type": "markdown",
   "source": "**Решение задачи 4:** \n\nОшибки:\n1. \n2. \n3. \n\nПравильное выражение:\n",
   "metadata": {}
  },
  {
   "cell_type": "markdown",
   "source": "## Практическая часть\n\nРеализуем класс линейной регрессии, соответствующий интерфейсу **sklearn**, в котором обучение будет реализовано путем применения аналитического метода. \n\nТестирование класса выполним на наборе данных **boston** (хранится в модуле **datasets**), который содержит характеристики и стоимость домов.",
   "metadata": {}
  },
  {
   "cell_type": "code",
   "source": "import numpy as np",
   "metadata": {
    "trusted": true
   },
   "execution_count": 54,
   "outputs": []
  },
  {
   "cell_type": "code",
   "source": "from sklearn.datasets import load_boston\nfrom sklearn.metrics import mean_squared_error\nfrom sklearn.model_selection import train_test_split",
   "metadata": {
    "trusted": true
   },
   "execution_count": 55,
   "outputs": []
  },
  {
   "cell_type": "code",
   "source": "# Загрузка набора данных и вывод информации о ключах (характеризуют содержимое набора)\nboston = load_boston()\nboston.keys()",
   "metadata": {
    "trusted": true
   },
   "execution_count": 56,
   "outputs": [
    {
     "name": "stderr",
     "output_type": "stream",
     "text": [
      "e:\\pycharmprojects\\machine_learning\\venv\\lib\\site-packages\\sklearn\\utils\\deprecation.py:87: FutureWarning: Function load_boston is deprecated; `load_boston` is deprecated in 1.0 and will be removed in 1.2.\n",
      "\n",
      "    The Boston housing prices dataset has an ethical problem. You can refer to\n",
      "    the documentation of this function for further details.\n",
      "\n",
      "    The scikit-learn maintainers therefore strongly discourage the use of this\n",
      "    dataset unless the purpose of the code is to study and educate about\n",
      "    ethical issues in data science and machine learning.\n",
      "\n",
      "    In this special case, you can fetch the dataset from the original\n",
      "    source::\n",
      "\n",
      "        import pandas as pd\n",
      "        import numpy as np\n",
      "\n",
      "\n",
      "        data_url = \"http://lib.stat.cmu.edu/datasets/boston\"\n",
      "        raw_df = pd.read_csv(data_url, sep=\"\\s+\", skiprows=22, header=None)\n",
      "        data = np.hstack([raw_df.values[::2, :], raw_df.values[1::2, :2]])\n",
      "        target = raw_df.values[1::2, 2]\n",
      "\n",
      "    Alternative datasets include the California housing dataset (i.e.\n",
      "    :func:`~sklearn.datasets.fetch_california_housing`) and the Ames housing\n",
      "    dataset. You can load the datasets as follows::\n",
      "\n",
      "        from sklearn.datasets import fetch_california_housing\n",
      "        housing = fetch_california_housing()\n",
      "\n",
      "    for the California housing dataset and::\n",
      "\n",
      "        from sklearn.datasets import fetch_openml\n",
      "        housing = fetch_openml(name=\"house_prices\", as_frame=True)\n",
      "\n",
      "    for the Ames housing dataset.\n",
      "    \n",
      "  warnings.warn(msg, category=FutureWarning)\n"
     ]
    },
    {
     "data": {
      "text/plain": "dict_keys(['data', 'target', 'feature_names', 'DESCR', 'filename', 'data_module'])"
     },
     "execution_count": 56,
     "metadata": {},
     "output_type": "execute_result"
    }
   ]
  },
  {
   "cell_type": "code",
   "source": "# Формирование матрицы признаков и вектора ответов\nX = boston[\"data\"]\ny = boston[\"target\"]",
   "metadata": {
    "trusted": true
   },
   "execution_count": 57,
   "outputs": []
  },
  {
   "cell_type": "code",
   "source": "X",
   "metadata": {
    "trusted": true
   },
   "execution_count": 58,
   "outputs": [
    {
     "data": {
      "text/plain": "array([[6.3200e-03, 1.8000e+01, 2.3100e+00, ..., 1.5300e+01, 3.9690e+02,\n        4.9800e+00],\n       [2.7310e-02, 0.0000e+00, 7.0700e+00, ..., 1.7800e+01, 3.9690e+02,\n        9.1400e+00],\n       [2.7290e-02, 0.0000e+00, 7.0700e+00, ..., 1.7800e+01, 3.9283e+02,\n        4.0300e+00],\n       ...,\n       [6.0760e-02, 0.0000e+00, 1.1930e+01, ..., 2.1000e+01, 3.9690e+02,\n        5.6400e+00],\n       [1.0959e-01, 0.0000e+00, 1.1930e+01, ..., 2.1000e+01, 3.9345e+02,\n        6.4800e+00],\n       [4.7410e-02, 0.0000e+00, 1.1930e+01, ..., 2.1000e+01, 3.9690e+02,\n        7.8800e+00]])"
     },
     "execution_count": 58,
     "metadata": {},
     "output_type": "execute_result"
    }
   ]
  },
  {
   "cell_type": "code",
   "source": "X.shape",
   "metadata": {
    "trusted": true
   },
   "execution_count": 59,
   "outputs": [
    {
     "data": {
      "text/plain": "(506, 13)"
     },
     "execution_count": 59,
     "metadata": {},
     "output_type": "execute_result"
    }
   ]
  },
  {
   "cell_type": "markdown",
   "source": "Добавьте единичный столбец в X и сохраните результат в переменную X_with1:",
   "metadata": {}
  },
  {
   "cell_type": "code",
   "source": "### Код, реализующий добавление единичного столбца\n# (506, 13) -> (506, 14)\n",
   "metadata": {
    "trusted": true
   },
   "execution_count": 60,
   "outputs": []
  },
  {
   "cell_type": "code",
   "source": "X_with1",
   "metadata": {
    "trusted": true
   },
   "execution_count": 61,
   "outputs": [
    {
     "ename": "NameError",
     "evalue": "name 'X_with1' is not defined",
     "output_type": "error",
     "traceback": [
      "\u001B[1;31m---------------------------------------------------------------------------\u001B[0m",
      "\u001B[1;31mNameError\u001B[0m                                 Traceback (most recent call last)",
      "Input \u001B[1;32mIn [61]\u001B[0m, in \u001B[0;36m<cell line: 1>\u001B[1;34m()\u001B[0m\n\u001B[1;32m----> 1\u001B[0m \u001B[43mX_with1\u001B[49m\n",
      "\u001B[1;31mNameError\u001B[0m: name 'X_with1' is not defined"
     ]
    }
   ]
  },
  {
   "cell_type": "markdown",
   "source": "Разделим обе выборки на обучение и контроль, зафиксировав random_state, чтобы разбиение в обоих случаях выполнялось одинаково:",
   "metadata": {}
  },
  {
   "cell_type": "code",
   "source": "X_tr, X_te, y_tr, y_te = train_test_split(X, y, random_state=10)\nX_tr_with1, X_te_with1, y_tr, y_te = train_test_split(X_with1, y, random_state=10)",
   "metadata": {
    "trusted": true
   },
   "execution_count": null,
   "outputs": []
  },
  {
   "cell_type": "code",
   "source": "X_tr.shape, y_tr.shape, X_tr_with1.shape, X_te_with1.shape",
   "metadata": {
    "trusted": true
   },
   "execution_count": null,
   "outputs": []
  },
  {
   "cell_type": "markdown",
   "source": "Реализуйте методы **fit** и **predict**. Интерфейс соответствует стандартному интерфейсу **sklearn**. \n\nНапоминание: в машинном обучении классы удобно использовать, чтобы сохранять значения параметров внутри класса после обучения. У класса две основные функции: **fit** (производит обучение по обучающей выборке) и **predict** (выполняет предсказания для заданной выборки). Функция **fit** вызывается один раз, после чего параметры (в данном случае веса) сохраняются внутри класса. После обучения можно много раз вызывать функцию **predict**, чтобы выполнять предсказания на разных выборках. При этом будут использоваться сохраненные внутри класса веса. \n\nВ методе **fit** нужно реализовать вычисление весов по формуле $w = (X^T X)^{-1} X^T Y$ и сохранить в self., в методе **predict** - вернуть предсказания по формуле $X w$ (см. задачи выше), используя сохраненный вектор весов. ",
   "metadata": {}
  },
  {
   "cell_type": "code",
   "source": "class LinearRegression:\n    def __init__(self, learning_method=\"analytical\"):\n        self.learning_method = learning_method\n        \n    def fit(self, X, y):\n        if self.learning_method == \"analytical\":\n            ### код, реализующий вычисление весов\n            \n        else:\n            pass\n            \n    def predict(self, X):\n        ### код, реализующий получение предсказаний\n        \n        return ",
   "metadata": {
    "trusted": true
   },
   "execution_count": null,
   "outputs": []
  },
  {
   "cell_type": "markdown",
   "source": "Проверим качество работы полученной модели. Сравним работу модели с константным признаком и без него.",
   "metadata": {}
  },
  {
   "cell_type": "code",
   "source": "regr = LinearRegression(\"analytical\")\nregr.fit(X_tr, y_tr)\nprint(\"train error:\", mean_squared_error(regr.predict(X_tr), y_tr))\nprint(\"test error:\", mean_squared_error(regr.predict(X_te), y_te))",
   "metadata": {
    "trusted": true
   },
   "execution_count": null,
   "outputs": []
  },
  {
   "cell_type": "code",
   "source": "regr = LinearRegression(\"analytical\")\nregr.fit(X_tr_with1, y_tr)\nprint(\"train error:\", mean_squared_error(regr.predict(X_tr_with1), y_tr))\nprint(\"test error:\", mean_squared_error(regr.predict(X_te_with1), y_te))",
   "metadata": {
    "trusted": true
   },
   "execution_count": null,
   "outputs": []
  },
  {
   "cell_type": "markdown",
   "source": "Как и следовало ожидать, качество работы алгоритма с константным признаком лучше, чем без него ($w_0=0$).\n\nКачество работы алгоритма на тестовых данных хуже, чем на обучающей выборке - это стандартная ситуация в машинном обучении.",
   "metadata": {}
  },
  {
   "cell_type": "markdown",
   "source": "### **Дополнительное задание**\n\nРеализовать обучение линейной регрессии с помощью градиентного спуска. В этом случае следует дополнительно учесть следующие моменты.\n* Выборку X необходимо масштабировать (можно использовать sklearn.preprocessing.Normalizer)\n* Длину шага нужно настроить так, чтобы градиентный спуск не расходился (начать с большой, с постепенным уменьшением). Рекомендация: контролировать изменение ошибки в процессе обучения.\n* Может понадобиться выполнить большое число итераций (порядка миллиона).\n\n**Внимание:** все вычисления - ТОЛЬКО В МАТРИЧНОЙ ФОРМЕ. Циклы можно использовать только для организации итераций.",
   "metadata": {}
  },
  {
   "cell_type": "code",
   "source": "",
   "metadata": {},
   "execution_count": null,
   "outputs": []
  }
 ]
}