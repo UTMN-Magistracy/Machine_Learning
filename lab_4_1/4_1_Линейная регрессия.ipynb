{
 "metadata": {
  "kernelspec": {
   "display_name": "Python 3",
   "language": "python",
   "name": "python3"
  },
  "language_info": {
   "name": "python",
   "version": "3.7.8",
   "mimetype": "text/x-python",
   "codemirror_mode": {
    "name": "ipython",
    "version": 3
   },
   "pygments_lexer": "ipython3",
   "nbconvert_exporter": "python",
   "file_extension": ".py"
  }
 },
 "nbformat_minor": 4,
 "nbformat": 4,
 "cells": [
  {
   "cell_type": "markdown",
   "source": [
    "# Линейная регрессия\n",
    "\n",
    "## Теоретическая часть\n",
    "\n",
    "## Построение предсказаний\n",
    "\n",
    "__Вспомнить из лекции:__\n",
    "* Как выполняются предсказания с помощью модели линейной регрессии?\n",
    "* Как интерпретировать веса в модели линейной регрессии?\n",
    "\n",
    "### **Задача 1**.\n",
    "\n",
    "Какие предсказания сделает линейная модель\n",
    "\n",
    "$$a(x) = w_1 x_1 + w_2 x_2 + w_3 x_3 + b$$\n",
    "\n",
    "для объекта $x = (7, -3, 2)$, вектора весов $w = (0.5, 1.5, -2)$ и сдвига $b=10$?\n",
    "\n"
   ],
   "metadata": {
    "pycharm": {
     "name": "#%% md\n"
    }
   }
  },
  {
   "cell_type": "code",
   "source": [
    "# Код для получения ответа.\n",
    "# Пояснения обязательны!\n",
    "a_x = 7 * 0.5 + (-3) * 1.5 + 2 * (-2) + 10\n",
    "print(f'a(x) = {a_x}')"
   ],
   "metadata": {
    "pycharm": {
     "name": "#%%\n"
    }
   },
   "execution_count": 67,
   "outputs": [
    {
     "name": "stdout",
     "output_type": "stream",
     "text": [
      "a(x) = 5.0\n"
     ]
    }
   ]
  },
  {
   "cell_type": "markdown",
   "source": [
    "### **Задача 2**.\n",
    "\n",
    "Дана матрица $X$ размера $\\ell \\times (d+1)$, $\\ell$ - число объектов, $(d+1)$ - число признаков. В матрицу $X$ входит константный признак, который равен 1 для всех объектов. Также дан вектор весов $w$ длины $(d+1)$. Записать в матричном виде (через матричное произведение), как будут выполняться предсказания для этой матрицы.\n",
    "\n",
    "Указать размерности всех матриц, входящих в формулу, проверить корректность выполнения матричных операций (с точки зрения размерности)."
   ],
   "metadata": {
    "pycharm": {
     "name": "#%% md\n"
    }
   }
  },
  {
   "cell_type": "markdown",
   "source": [
    "**Решение задачи 2:** \n",
    "\n",
    "текст решения\n",
    "\n",
    "Строка - описание объекта,\n",
    "столбец - значение признака на разных объектах (X)\n",
    "\n",
    "$X = \\begin{pmatrix}\n",
    "     x_{11} & x_{12} & ... & x_{1m} \\\\\n",
    "     x_{21} & x_{22} & ... & x_{2m} \\\\\n",
    "     . . . &  . . . & . . . & . . .  \\\\\n",
    "     x_{n1} & x_{n2} & ... & x_{nm}\n",
    "     \\end{pmatrix}$ , n = $\\ell$, m = $(d+1)$\n",
    "\n",
    "\n",
    "$w = \\begin{pmatrix}\n",
    "     w_{1} \\\\\n",
    "     w_{2} \\\\\n",
    "     ... \\\\\n",
    "     w_{m} \\\\\n",
    "     \\end{pmatrix} $ , m = $(d+1)$\n",
    "\n",
    "$\n",
    "   𝑿 * w =\n",
    "   \\begin{pmatrix}\n",
    "    x_{11}*w_{1} & + & ... & + & x_{1m}*w_{m} \\\\\n",
    "    x_{21}*w_{1} & + & ... & + & x_{2m}*w_{m} \\\\\n",
    "   . . . &  +  & . . . & +  & . . .  \\\\\n",
    "    x_{n1}*w_{1} & + & . . . & + & x_{nm}*w_{m} \\\\\n",
    "   \\end{pmatrix} $\n",
    "\n",
    "$w_0$ – свободный коэффициент (сдвиг, bias),\n",
    "\n",
    "$w_m$ – коэффициенты (веса) признаков."
   ],
   "metadata": {
    "pycharm": {
     "name": "#%% md\n"
    }
   }
  },
  {
   "cell_type": "markdown",
   "source": [
    "### **Задача 3**.\n",
    "\n",
    "Визуализируйте решающее правило для $d=1$, $w_1=3$, $w_0=-2$. За что отвечает сдвиг $w_0$? Почему исключение сдвига из модели $w_0=0$, скорее всего, ухудшит качество предсказаний?"
   ],
   "metadata": {
    "pycharm": {
     "name": "#%% md\n"
    }
   }
  },
  {
   "cell_type": "markdown",
   "source": [],
   "metadata": {
    "collapsed": false,
    "pycharm": {
     "name": "#%% md\n"
    }
   },
   "execution_count": 47
  },
  {
   "cell_type": "markdown",
   "source": [
    "1. $\\begin{align}a(x) = 3 x_1 -2\\end{align}$\n",
    "<br><br>\n",
    "2. $\\begin{align}a(x) = 3 x_1\\end{align}$<br><br>\n",
    "\n",
    "𝒘𝟎 - ордината точки пересечения прямой с осью ордина"
   ],
   "metadata": {
    "collapsed": false,
    "pycharm": {
     "name": "#%% md\n"
    }
   }
  },
  {
   "cell_type": "code",
   "execution_count": 68,
   "outputs": [
    {
     "data": {
      "text/plain": "<Figure size 432x288 with 1 Axes>",
      "image/png": "[encoded data removed]"
     },
     "metadata": {
      "needs_background": "light"
     },
     "output_type": "display_data"
    }
   ],
   "source": [
    "import numpy as np\n",
    "import matplotlib.pyplot as plt\n",
    "\n",
    "fig, ax = plt.subplots()\n",
    "x=np.linspace(0,10,100)\n",
    "\n",
    "y1=[]\n",
    "y2=[]\n",
    "for i in x:\n",
    "  y1+=[i*3-2]\n",
    "  y2+=[i*3]\n",
    "\n",
    "ax.plot(x,y1, color=\"blue\")\n",
    "ax.plot(x,y2, color=\"red\")\n",
    "ax.plot([0, 10], [15, 15], linestyle=\"dashed\")\n",
    "ax.grid()"
   ],
   "metadata": {
    "collapsed": false,
    "pycharm": {
     "name": "#%%\n"
    }
   }
  },
  {
   "cell_type": "markdown",
   "source": [
    "### **Вопрос:** \n",
    "\n",
    "Какой геометрический объект задает решающее правило линейной регрессии в трехмерном случае (два признака)? В многомерном случае (больше двух признаков)?\n"
   ],
   "metadata": {
    "pycharm": {
     "name": "#%% md\n"
    }
   }
  },
  {
   "cell_type": "markdown",
   "source": [
    "**Ответ на вопрос:** \n",
    "\n",
    "1) плоскость\n",
    "\n",
    "2) гиперплоскость\n"
   ],
   "metadata": {
    "pycharm": {
     "name": "#%% md\n"
    }
   }
  },
  {
   "cell_type": "markdown",
   "source": [
    "## Обучение линейной регрессии\n",
    "__Вспомнить из лекции:__\n",
    "* Как выполняется обучение линейной регрессии на основе среднеквадратической ошибки? \n",
    "* Какой функционал при этом минимизируется?\n",
    "* Как выглядит аналитическое решение задачи обучения (формула для определения весов)?\n",
    "* Почему на практике не используется аналитическое решение?\n",
    "* Каков оптимизационный алгоритм (как рассчитываются веса)?\n",
    "\n",
    "### **Задача 4**.\n",
    "\n",
    "Даны матрица объекты-признаки $X$ размера $\\ell \\times (d+1)$, вектор правильных ответов $Y$ длины $\\ell$ и вектор весов $w$ длины $(d+1)$, $\\ell$ - число объектов, $(d+1)$ - число признаков. Указать все ошибки, допущенные в записи выражения для среднеквадратичной ошибки:\n",
    "\n",
    "$$\\| Xw - Y \\| = \\frac 1 \\ell \\sum_{j=1}^d \\bigl ( \\sum_{i=1}^\\ell x_{ij} w_{j} - y_j   \\bigr )^2$$\n",
    "\n",
    "Записать правильное выражение.\n"
   ],
   "metadata": {
    "pycharm": {
     "name": "#%% md\n"
    }
   }
  },
  {
   "cell_type": "markdown",
   "source": [
    "**Решение задачи 4:** \n",
    "\n",
    "Ошибки:\n",
    "1. $d$ должна быть $d+1$<br><br>\n",
    "2. суммы надо поменять местами $\\sum_{i=1}^\\ell$ и $\\sum_{j=1}^d$<br><br>\n",
    "3. $\\sum_{j=1}^{d+1} x_{ij} w_{j} - y_j$ в этой части $y_j$ станет $y_i$\n",
    "\n",
    "Правильное выражение:\n",
    "\n",
    "$$\\| Xw - Y \\| = \\frac 1 \\ell \\sum_{i=1}^\\ell \\bigl ( \\sum_{j=1}^{d+1} x_{ij} w_{j} - y_i   \\bigr )^2$$\n"
   ],
   "metadata": {
    "pycharm": {
     "name": "#%% md\n"
    }
   }
  },
  {
   "cell_type": "markdown",
   "source": [
    "## Практическая часть\n",
    "\n",
    "Реализуем класс линейной регрессии, соответствующий интерфейсу **sklearn**, в котором обучение будет реализовано путем применения аналитического метода. \n",
    "\n",
    "Тестирование класса выполним на наборе данных **boston** (хранится в модуле **datasets**), который содержит характеристики и стоимость домов."
   ],
   "metadata": {
    "pycharm": {
     "name": "#%% md\n"
    }
   }
  },
  {
   "cell_type": "code",
   "source": [
    "from sklearn.datasets import load_boston\n",
    "from sklearn.metrics import mean_squared_error\n",
    "from sklearn.model_selection import train_test_split"
   ],
   "metadata": {
    "trusted": true,
    "pycharm": {
     "name": "#%%\n"
    }
   },
   "execution_count": 83,
   "outputs": []
  },
  {
   "cell_type": "code",
   "source": [
    "# Загрузка набора данных и вывод информации о ключах (характеризуют содержимое набора)\n",
    "boston = load_boston()\n",
    "boston.keys()"
   ],
   "metadata": {
    "trusted": true,
    "pycharm": {
     "name": "#%%\n"
    }
   },
   "execution_count": 84,
   "outputs": [
    {
     "data": {
      "text/plain": "dict_keys(['data', 'target', 'feature_names', 'DESCR', 'filename', 'data_module'])"
     },
     "execution_count": 84,
     "metadata": {},
     "output_type": "execute_result"
    }
   ]
  },
  {
   "cell_type": "code",
   "source": [
    "# Формирование матрицы признаков и вектора ответов\n",
    "X = boston[\"data\"]\n",
    "y = boston[\"target\"]"
   ],
   "metadata": {
    "trusted": true,
    "pycharm": {
     "name": "#%%\n"
    }
   },
   "execution_count": 85,
   "outputs": []
  },
  {
   "cell_type": "code",
   "source": [
    "X"
   ],
   "metadata": {
    "trusted": true,
    "pycharm": {
     "name": "#%%\n"
    }
   },
   "execution_count": 86,
   "outputs": [
    {
     "data": {
      "text/plain": "array([[6.3200e-03, 1.8000e+01, 2.3100e+00, ..., 1.5300e+01, 3.9690e+02,\n        4.9800e+00],\n       [2.7310e-02, 0.0000e+00, 7.0700e+00, ..., 1.7800e+01, 3.9690e+02,\n        9.1400e+00],\n       [2.7290e-02, 0.0000e+00, 7.0700e+00, ..., 1.7800e+01, 3.9283e+02,\n        4.0300e+00],\n       ...,\n       [6.0760e-02, 0.0000e+00, 1.1930e+01, ..., 2.1000e+01, 3.9690e+02,\n        5.6400e+00],\n       [1.0959e-01, 0.0000e+00, 1.1930e+01, ..., 2.1000e+01, 3.9345e+02,\n        6.4800e+00],\n       [4.7410e-02, 0.0000e+00, 1.1930e+01, ..., 2.1000e+01, 3.9690e+02,\n        7.8800e+00]])"
     },
     "execution_count": 86,
     "metadata": {},
     "output_type": "execute_result"
    }
   ]
  },
  {
   "cell_type": "code",
   "source": [
    "X.shape"
   ],
   "metadata": {
    "trusted": true,
    "pycharm": {
     "name": "#%%\n"
    }
   },
   "execution_count": 87,
   "outputs": [
    {
     "data": {
      "text/plain": "(506, 13)"
     },
     "execution_count": 87,
     "metadata": {},
     "output_type": "execute_result"
    }
   ]
  },
  {
   "cell_type": "markdown",
   "source": [
    "Добавьте единичный столбец в X и сохраните результат в переменную X_with1:"
   ],
   "metadata": {
    "pycharm": {
     "name": "#%% md\n"
    }
   }
  },
  {
   "cell_type": "code",
   "source": [
    "### Код, реализующий добавление единичного столбца\n",
    "# (506, 13) -> (506, 14)"
   ],
   "metadata": {
    "trusted": true,
    "pycharm": {
     "name": "#%%\n"
    }
   },
   "execution_count": 88,
   "outputs": []
  },
  {
   "cell_type": "code",
   "execution_count": 89,
   "outputs": [],
   "source": [
    "X_with1 = np.append(X, np.ones((X.shape[0], 1), dtype=np.int64), axis=1)"
   ],
   "metadata": {
    "collapsed": false,
    "pycharm": {
     "name": "#%%\n"
    }
   }
  },
  {
   "cell_type": "code",
   "source": [
    "X_with1"
   ],
   "metadata": {
    "trusted": true,
    "pycharm": {
     "name": "#%%\n"
    }
   },
   "execution_count": 90,
   "outputs": [
    {
     "data": {
      "text/plain": "array([[6.3200e-03, 1.8000e+01, 2.3100e+00, ..., 3.9690e+02, 4.9800e+00,\n        1.0000e+00],\n       [2.7310e-02, 0.0000e+00, 7.0700e+00, ..., 3.9690e+02, 9.1400e+00,\n        1.0000e+00],\n       [2.7290e-02, 0.0000e+00, 7.0700e+00, ..., 3.9283e+02, 4.0300e+00,\n        1.0000e+00],\n       ...,\n       [6.0760e-02, 0.0000e+00, 1.1930e+01, ..., 3.9690e+02, 5.6400e+00,\n        1.0000e+00],\n       [1.0959e-01, 0.0000e+00, 1.1930e+01, ..., 3.9345e+02, 6.4800e+00,\n        1.0000e+00],\n       [4.7410e-02, 0.0000e+00, 1.1930e+01, ..., 3.9690e+02, 7.8800e+00,\n        1.0000e+00]])"
     },
     "execution_count": 90,
     "metadata": {},
     "output_type": "execute_result"
    }
   ]
  },
  {
   "cell_type": "markdown",
   "source": [
    "Разделим обе выборки на обучение и контроль, зафиксировав random_state, чтобы разбиение в обоих случаях выполнялось одинаково:"
   ],
   "metadata": {
    "pycharm": {
     "name": "#%% md\n"
    }
   }
  },
  {
   "cell_type": "code",
   "source": [
    "X_tr, X_te, y_tr, y_te = train_test_split(X, y, random_state=10)\n",
    "X_tr_with1, X_te_with1, y_tr, y_te = train_test_split(X_with1, y, random_state=10)"
   ],
   "metadata": {
    "trusted": true,
    "pycharm": {
     "name": "#%%\n"
    }
   },
   "execution_count": 91,
   "outputs": []
  },
  {
   "cell_type": "code",
   "source": [
    "X_tr.shape, y_tr.shape, X_tr_with1.shape, X_te_with1.shape"
   ],
   "metadata": {
    "trusted": true,
    "pycharm": {
     "name": "#%%\n"
    }
   },
   "execution_count": 92,
   "outputs": [
    {
     "data": {
      "text/plain": "((379, 13), (379,), (379, 14), (127, 14))"
     },
     "execution_count": 92,
     "metadata": {},
     "output_type": "execute_result"
    }
   ]
  },
  {
   "cell_type": "markdown",
   "source": [
    "Реализуйте методы **fit** и **predict**. Интерфейс соответствует стандартному интерфейсу **sklearn**. \n",
    "\n",
    "Напоминание: в машинном обучении классы удобно использовать, чтобы сохранять значения параметров внутри класса после обучения. У класса две основные функции: **fit** (производит обучение по обучающей выборке) и **predict** (выполняет предсказания для заданной выборки). Функция **fit** вызывается один раз, после чего параметры (в данном случае веса) сохраняются внутри класса. После обучения можно много раз вызывать функцию **predict**, чтобы выполнять предсказания на разных выборках. При этом будут использоваться сохраненные внутри класса веса. \n",
    "\n",
    "В методе **fit** нужно реализовать вычисление весов по формуле $w = (X^T X)^{-1} X^T Y$ и сохранить в self., в методе **predict** - вернуть предсказания по формуле $X w$ (см. задачи выше), используя сохраненный вектор весов. "
   ],
   "metadata": {
    "pycharm": {
     "name": "#%% md\n"
    }
   }
  },
  {
   "cell_type": "code",
   "source": [
    "class LinearRegression:\n",
    "    def __init__(self, learning_method=\"analytical\"):\n",
    "        self.learning_method = learning_method\n",
    "        \n",
    "    def fit(self, X, y):\n",
    "        if self.learning_method == \"analytical\":\n",
    "            ### код, реализующий вычисление весов\n",
    "            transposed = X.T\n",
    "            self.w = np.linalg.pinv(transposed @ X) @ transposed @ y\n",
    "        else:\n",
    "            pass\n",
    "\n",
    "    def predict(self, X):\n",
    "        ### код, реализующий получение предсказаний\n",
    "        return X @ self.w"
   ],
   "metadata": {
    "trusted": true,
    "pycharm": {
     "name": "#%%\n"
    }
   },
   "execution_count": 79,
   "outputs": []
  },
  {
   "cell_type": "markdown",
   "source": [
    "Проверим качество работы полученной модели. Сравним работу модели с константным признаком и без него."
   ],
   "metadata": {
    "pycharm": {
     "name": "#%% md\n"
    }
   }
  },
  {
   "cell_type": "code",
   "source": [
    "regr = LinearRegression(\"analytical\")\n",
    "regr.fit(X_tr, y_tr)\n",
    "print(\"train error:\", mean_squared_error(regr.predict(X_tr), y_tr))\n",
    "print(\"test error:\", mean_squared_error(regr.predict(X_te), y_te))"
   ],
   "metadata": {
    "trusted": true,
    "pycharm": {
     "name": "#%%\n"
    }
   },
   "execution_count": 94,
   "outputs": [
    {
     "name": "stdout",
     "output_type": "stream",
     "text": [
      "train error: 20.69684946997519\n",
      "test error: 35.89242405296043\n"
     ]
    }
   ]
  },
  {
   "cell_type": "code",
   "source": [
    "regr = LinearRegression(\"analytical\")\n",
    "regr.fit(X_tr_with1, y_tr)\n",
    "print(\"train error:\", mean_squared_error(regr.predict(X_tr_with1), y_tr))\n",
    "print(\"test error:\", mean_squared_error(regr.predict(X_te_with1), y_te))"
   ],
   "metadata": {
    "trusted": true,
    "pycharm": {
     "name": "#%%\n"
    }
   },
   "execution_count": 95,
   "outputs": [
    {
     "name": "stdout",
     "output_type": "stream",
     "text": [
      "train error: 18.87900085091601\n",
      "test error: 32.44253669600471\n"
     ]
    }
   ]
  },
  {
   "cell_type": "markdown",
   "source": [
    "Как и следовало ожидать, качество работы алгоритма с константным признаком лучше, чем без него ($w_0=0$).\n",
    "\n",
    "Качество работы алгоритма на тестовых данных хуже, чем на обучающей выборке - это стандартная ситуация в машинном обучении."
   ],
   "metadata": {
    "pycharm": {
     "name": "#%% md\n"
    }
   }
  },
  {
   "cell_type": "markdown",
   "source": [
    "### **Дополнительное задание**\n",
    "\n",
    "Реализовать обучение линейной регрессии с помощью градиентного спуска. В этом случае следует дополнительно учесть следующие моменты.\n",
    "* Выборку X необходимо масштабировать (можно использовать sklearn.preprocessing.Normalizer)\n",
    "* Длину шага нужно настроить так, чтобы градиентный спуск не расходился (начать с большой, с постепенным уменьшением). Рекомендация: контролировать изменение ошибки в процессе обучения.\n",
    "* Может понадобиться выполнить большое число итераций (порядка миллиона).\n",
    "\n",
    "**Внимание:** все вычисления - ТОЛЬКО В МАТРИЧНОЙ ФОРМЕ. Циклы можно использовать только для организации итераций."
   ],
   "metadata": {
    "pycharm": {
     "name": "#%% md\n"
    }
   }
  },
  {
   "cell_type": "code",
   "source": [],
   "metadata": {
    "pycharm": {
     "name": "#%%\n"
    }
   },
   "execution_count": 81,
   "outputs": []
  }
 ]
}