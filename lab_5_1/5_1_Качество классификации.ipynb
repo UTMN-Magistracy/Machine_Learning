{
 "metadata": {
  "anaconda-cloud": {},
  "kernelspec": {
   "display_name": "Python 3",
   "language": "python",
   "name": "python3"
  },
  "language_info": {
   "name": "python",
   "version": "3.7.8",
   "mimetype": "text/x-python",
   "codemirror_mode": {
    "name": "ipython",
    "version": 3
   },
   "pygments_lexer": "ipython3",
   "nbconvert_exporter": "python",
   "file_extension": ".py"
  }
 },
 "nbformat_minor": 4,
 "nbformat": 4,
 "cells": [
  {
   "cell_type": "markdown",
   "source": [
    "# Метрики качества бинарной классификации\n",
    "\n",
    "## Теоретическая часть\n",
    "\n",
    "__Вспомнить из лекций:__\n",
    "* Как вычисляются следующие метрики качества: **точность, полнота, F-мера, LogLoss, AUC-ROC, AUC-RPC**?"
   ],
   "metadata": {}
  },
  {
   "cell_type": "markdown",
   "source": [
    "Большинство алгоритмов бинарной классификации работают следующим образом: они предсказывают для объекта  $x$ вещественное число $b(x)$, а затем сравнивают его с порогом $T$: \n",
    "- если $b(x) < T$, то предсказывается класс -1, \n",
    "- иначе предсказывается класс +1. \n",
    "\n",
    "Это можно записать в терминах функции **sign** (знак):\n",
    "$$a(x) = sign(b(x)-T)$$\n",
    "\n",
    "Метрики качества бинарной классификации можно разделить на две группы: \n",
    "\n",
    "оценивают \n",
    "- бинарные предсказания $a(x)$ (класс -1 и +1), \n",
    "- вещественные предсказания $b(x)$. \n",
    "\n",
    "Некоторые метрики последней группы варьируют порог, и оценивают качество бинарных предсказаний при различных порогах. Это полезно, чтобы \"отделить\" качество работы алгоритма от качества выбора конкретного порога. \n",
    "\n",
    "### Вопрос: \n",
    "какие из рассмотренных в лекциях метрик относятся к каждой группе?\n"
   ],
   "metadata": {}
  },
  {
   "cell_type": "markdown",
   "source": [
    "### Ответ:\n",
    "* Бинарные: точность, полнота, F-мера\n",
    "* Вещественные: LogLoss, AUC-ROC, AUC-RPC"
   ],
   "metadata": {}
  },
  {
   "cell_type": "markdown",
   "source": [
    "### Задача 1\n",
    "Вычислить (вручную) **accuracy, точность, полноту** и  **F-меру** для следующих векторов предсказаний и правильных ответов:\n",
    "\n",
    "|                    -          |  1 | 2  | 3  | 4  |  5 | 6  | 7  |\n",
    "|-------------------------------|----|----|----|----|----|----|----|\n",
    "| Правильный ответ (из данных)  | +1 | -1 | +1 | +1 | -1 | +1 | -1 |\n",
    "| Предсказание                  | -1 | +1 | +1 | +1 | -1 | -1 | -1 |\n",
    "\n"
   ],
   "metadata": {}
  },
  {
   "cell_type": "markdown",
   "source": [
    "### Решение:\n",
    "*TP* = 2\n",
    "\n",
    "*FP* = 1\n",
    "\n",
    "*TN* = 2\n",
    "\n",
    "*FN* = 2\n",
    "\n",
    "*accuracy* = (TP + TN)/(TP + TN + FP + FN) = 0.571\n",
    "\n",
    "*precision* = TP / ( TP + FP ) = 0.666\n",
    "\n",
    "*recall* = TP / ( TP + FN ) = 0.5\n",
    "\n",
    "*F-score* = (2 * *precision* * *recall*) / (*precision* + *recall*) = 0.568"
   ],
   "metadata": {}
  },
  {
   "cell_type": "markdown",
   "source": [
    "### Задача 2\n",
    "Рассмотрим алгоритм вида $$a(x) = sign(b(x)-T).$$ Пусть для любого объекта $x$ выполнено $-10 < b(x) < 10$. Какова будет точность и полнота алгоритма, если положить $T=-15$? $T=15$? \n"
   ],
   "metadata": {}
  },
  {
   "cell_type": "markdown",
   "source": [
    "### Решение:\n",
    "1. T = - 15 => b(x) > T =>\n",
    "\n",
    "    $$a(x) = sign(b(x)-T) = 1$$ =>\n",
    "\n",
    "    TN = 0, FN = 0, FP = ? =>\n",
    "\n",
    "    *precision* = TP / (TP + FP) = ?\n",
    "\n",
    "    *recall* = TP / (TP + FN) = TP/TP = 1\n",
    "2.  T = 15 => b(x) < T =>\n",
    "\n",
    "    $$a(x) = sign(b(x)-T) = -1$$ =>\n",
    "\n",
    "    TP = 0 =>\n",
    "\n",
    "    *precision* = TP / (TP + FP) = 0\n",
    "\n",
    "    *recall* = TP / (TP + FN) = 0"
   ],
   "metadata": {}
  },
  {
   "cell_type": "markdown",
   "source": [
    "### Задача 3\n",
    "\n",
    "Найти (вручную) точки, необходимые для пострения ROC-кривой для следующих векторов предсказаний и правильных ответов:\n",
    "\n",
    "|                  _            | 1   | 2    |  3  |  4  |  5  |  6  |  7  |\n",
    "|------------------------------|----|----|----|----|----|----|----|\n",
    "| Правильный ответ (из данных) | -1 | +1 | +1 | -1 | +1 | -1 | -1 |\n",
    "| Предсказание $b(x)$       | 1  | 15 | -1 | 7  | 3  | -8 | -5 |\n",
    "\n",
    "__Указание:__\n",
    "\n",
    "Следует сначала отсортировать объекты по возрастанию вещественных предсказаний $b(x)$. "
   ],
   "metadata": {}
  },
  {
   "cell_type": "markdown",
   "source": [
    "### Решение:\n",
    "\n",
    "FPR (ось абцисс) = FP / (FP + TN)\n",
    "\n",
    "TPR (ось ординат) = TP / (TP + FN)\n",
    "\n",
    "|              _        | 1   |   2 |   3 |   4 |   5  | 6  | 7  |\n",
    "|:--- |:----:|:----:|:----:| :----:|:----:|:----:|---:|\n",
    "| Правильный ответ (из данных) | -1 | -1 | +1 | -1 | +1 | -1 | +1 |\n",
    "| Предсказание $b(x)$          | -8  | -5 | -1 | 1 | 3  |  7 | 15 |\n",
    "\n",
    "1. t = 16\n",
    "\n",
    "|              _        | 1   |   2 |   3 |   4 |   5  | 6  | 7  |\n",
    "|:--- |:----:|:----:|:----:| :----:|:----:|:----:|---:|\n",
    "| Правильный ответ (из данных) | -1 | -1 | +1 | -1 | +1 | -1 | +1 |\n",
    "| Предсказание $b(x)$          | -8  | -5 | -1 | 1 | 3  |  7 | 15 |\n",
    "| a(x)                         | -1 | -1 | -1 | -1 | -1 | -1 | -1 |\n",
    "\n",
    "|  TP | FP   |   TN |   FN |\n",
    "|:--- |:----:|:----:|:----:|\n",
    "| 0 | 0 | 4 | 3 |\n",
    "\n",
    "FPR = 0, TPR = 0 => **(0, 0)**\n",
    "\n",
    "2. t = 6\n",
    "\n",
    "|              _        | 1   |   2 |   3 |   4 |   5  | 6  | 7  |\n",
    "|:--- |:----:|:----:|:----:| :----:|:----:|:----:|---:|\n",
    "| Правильный ответ (из данных) | -1 | -1 | +1 | -1 | +1 | -1 | +1 |\n",
    "| Предсказание $b(x)$          | -8  | -5 | -1 | 1 | 3  |  7 | 15 |\n",
    "| a(x)                         | -1 | -1 | -1 | -1 | -1 | +1 | +1 |\n",
    "\n",
    "|  TP | FP   |   TN |   FN |\n",
    "|:--- |:----:|:----:|:----:|\n",
    "| 1 | 1 | 3 | 2 |\n",
    "\n",
    "FPR = 1/(1 + 3) = 0.25, TPR = 1/(1 + 2) = 0.33 => **(0.25, 0.33)**\n",
    "\n",
    "3. t = 2\n",
    "\n",
    "|              _        | 1   |   2 |   3 |   4 |   5  | 6  | 7  |\n",
    "|:--- |:----:|:----:|:----:| :----:|:----:|:----:|---:|\n",
    "| Правильный ответ (из данных) | -1 | -1 | +1 | -1 | +1 | -1 | +1 |\n",
    "| Предсказание $b(x)$          | -8  | -5 | -1 | 1 | 3  |  7 | 15 |\n",
    "| a(x)                         | -1 | -1 | -1 | -1 | +1 | +1 | +1 |\n",
    "\n",
    "|  TP | FP   |   TN |   FN |\n",
    "|:--- |:----:|:----:|:----:|\n",
    "| 2 | 1 | 3 | 1 |\n",
    "\n",
    "FPR = 1 / (1 + 3) = 0.25, TPR = 2 / (2 + 1) = 0. 66 => **(0.25, 0.66)**\n",
    "\n",
    "4. t = -3\n",
    "\n",
    "|              _        | 1   |   2 |   3 |   4 |   5  | 6  | 7  |\n",
    "|:--- |:----:|:----:|:----:| :----:|:----:|:----:|---:|\n",
    "| Правильный ответ (из данных) | -1 | -1 | +1 | -1 | +1 | -1 | +1 |\n",
    "| Предсказание $b(x)$          | -8  | -5 | -1 | 1 | 3  |  7 | 15 |\n",
    "| a(x)                         | -1 | -1 | +1 | +1 | +1 | +1 | +1 |\n",
    "\n",
    "|  TP | FP   |   TN |   FN |\n",
    "|:--- |:----:|:----:|:----:|\n",
    "| 3 | 2 | 2 | 0 |\n",
    "\n",
    "FPR = 2 / (2 + 2) = 0.5, TPR = 3 / (3 + 0) = 1 => **(0.5, 1)**\n",
    "\n",
    "5. t = -9\n",
    "\n",
    "|              _        | 1   |   2 |   3 |   4 |   5  | 6  | 7  |\n",
    "|:--- |:----:|:----:|:----:| :----:|:----:|:----:|---:|\n",
    "| Правильный ответ (из данных) | -1 | -1 | +1 | -1 | +1 | -1 | +1 |\n",
    "| Предсказание $b(x)$          | -8  | -5 | -1 | 1 | 3  |  7 | 15 |\n",
    "| a(x)                         | +1 | +1 | +1 | +1 | +1 | +1 | +1 |\n",
    "\n",
    "|  TP | FP   |   TN |   FN |\n",
    "|:--- |:----:|:----:|:----:|\n",
    "| 3 | 4 | 0 | 0 |\n",
    "\n",
    "FPR = 4 / (4 + 0) = 1, TPR = 3 / (3 + 0) = 1 => **(1, 1)**"
   ],
   "metadata": {}
  },
  {
   "cell_type": "markdown",
   "source": [
    "### Задача 4\n",
    "\n",
    "Какое значение AUC-ROC будет у алгоритма $b(x)$, который на каждом объекте возвращает случайное вещественное число из отрезка [-2, 2] (равномерное распределение)? \n",
    "\n",
    "У алгоритма, который для всех объектов класса -1 возвращает отрицательное число, а для всех объектов класса +1 - положительное число?\n"
   ],
   "metadata": {}
  },
  {
   "cell_type": "markdown",
   "source": [
    "### Решение:\n",
    "1. AUC-ROC = 0.5, т.к. дает случайные ответы\n",
    "2. AUC-ROC = 1, т.к. идеальный классификатор (нет ложных предсказаний)"
   ],
   "metadata": {}
  },
  {
   "cell_type": "markdown",
   "source": [
    "### Задача 5\n",
    "\n",
    "Пусть для алгоритма $b(x)$ значение AUC-ROC равно 0.2. Каким будет AUC-ROC алгоритма $-b(x)$?\n"
   ],
   "metadata": {}
  },
  {
   "cell_type": "markdown",
   "source": [
    "### Решение:\n",
    "a1(x) при b(x)\n",
    "\n",
    "a2(x) при -b(x)\n",
    "\n",
    "AUC-ROC(a1(x)) =>\n",
    "\n",
    "точки (FPR(a1(x)), TPR(a1(x))) =>\n",
    "\n",
    "AUC-ROC(a2(x)) =>\n",
    "\n",
    "точки (TPR(a1(x)), FPR(a1(x))) =>\n",
    "\n",
    "AUC-ROC(a2(x)) = 1 - AUC-ROC(a1(x)) = 1 - 0.2 = **0.8**"
   ],
   "metadata": {}
  },
  {
   "cell_type": "markdown",
   "source": [
    "## Практическая часть"
   ],
   "metadata": {}
  },
  {
   "cell_type": "markdown",
   "source": [
    "Функции для вычисления метрик в **sklearn** "
   ],
   "metadata": {}
  },
  {
   "cell_type": "code",
   "source": [
    "from sklearn.metrics import accuracy_score, precision_score, recall_score, f1_score, roc_auc_score"
   ],
   "metadata": {
    "trusted": true
   },
   "execution_count": 34,
   "outputs": []
  },
  {
   "cell_type": "markdown",
   "source": [
    "Сгенерируем два бинарных вектора длины 100 (число объектов):"
   ],
   "metadata": {}
  },
  {
   "cell_type": "code",
   "source": [
    "import numpy as np"
   ],
   "metadata": {
    "trusted": true
   },
   "execution_count": 35,
   "outputs": []
  },
  {
   "cell_type": "code",
   "source": [
    "n = 100\n",
    "y_true = np.random.randint(2, size=n)\n",
    "y_pred = np.random.randint(2, size=n)"
   ],
   "metadata": {
    "trusted": true
   },
   "execution_count": 36,
   "outputs": []
  },
  {
   "cell_type": "markdown",
   "source": [
    "Вычислим метрики качества бинарных предсказаний для случайных ответов (соответствует алгоритму, не выделяющему никаких закономерностей в данных):"
   ],
   "metadata": {}
  },
  {
   "cell_type": "code",
   "source": [
    "precision_score(y_true, y_pred), recall_score(y_true, y_pred), f1_score(y_true, y_pred)"
   ],
   "metadata": {
    "trusted": true
   },
   "execution_count": 37,
   "outputs": [
    {
     "data": {
      "text/plain": "(0.45098039215686275, 0.5476190476190477, 0.49462365591397855)"
     },
     "execution_count": 37,
     "metadata": {},
     "output_type": "execute_result"
    }
   ]
  },
  {
   "cell_type": "code",
   "source": [
    "accuracy_score(y_true, y_pred)"
   ],
   "metadata": {
    "trusted": true
   },
   "execution_count": 38,
   "outputs": [
    {
     "data": {
      "text/plain": "0.53"
     },
     "execution_count": 38,
     "metadata": {},
     "output_type": "execute_result"
    }
   ]
  },
  {
   "cell_type": "markdown",
   "source": [
    "Все метрики около 0.5 (примерная доля объектов положительного класса в выборке).\n",
    "\n",
    "Вычислим метрики для случая, когда все ответы правильные:"
   ],
   "metadata": {}
  },
  {
   "cell_type": "code",
   "source": [
    "precision_score(y_true, y_true), recall_score(y_true, y_true), f1_score(y_true, y_true)"
   ],
   "metadata": {
    "trusted": true
   },
   "execution_count": 39,
   "outputs": [
    {
     "data": {
      "text/plain": "(1.0, 1.0, 1.0)"
     },
     "execution_count": 39,
     "metadata": {},
     "output_type": "execute_result"
    }
   ]
  },
  {
   "cell_type": "code",
   "source": [
    "accuracy_score(y_true, y_true)"
   ],
   "metadata": {
    "trusted": true
   },
   "execution_count": 40,
   "outputs": [
    {
     "data": {
      "text/plain": "1.0"
     },
     "execution_count": 40,
     "metadata": {},
     "output_type": "execute_result"
    }
   ]
  },
  {
   "cell_type": "markdown",
   "source": [
    "Как и ожидается, все метрики равны 1."
   ],
   "metadata": {}
  },
  {
   "cell_type": "markdown",
   "source": [
    "Сгенерируем вектор случайных вещественных предсказаний:"
   ],
   "metadata": {}
  },
  {
   "cell_type": "code",
   "source": [
    "b_pred = np.random.rand(n)"
   ],
   "metadata": {
    "trusted": true
   },
   "execution_count": 41,
   "outputs": []
  },
  {
   "cell_type": "markdown",
   "source": [
    "Вычислим roc_auc:"
   ],
   "metadata": {}
  },
  {
   "cell_type": "code",
   "source": [
    "roc_auc_score(y_true, b_pred)"
   ],
   "metadata": {
    "trusted": true
   },
   "execution_count": 42,
   "outputs": [
    {
     "data": {
      "text/plain": "0.48070607553366174"
     },
     "execution_count": 42,
     "metadata": {},
     "output_type": "execute_result"
    }
   ]
  },
  {
   "cell_type": "markdown",
   "source": [
    "Как и ожидается, значение ROC-AUC около 0.5."
   ],
   "metadata": {}
  },
  {
   "cell_type": "markdown",
   "source": [
    "### Задание\n",
    "Реализовать построение ROC-кривой, используя данные задачи 3.\n",
    "\n",
    "Сопоставить с результатами, полученными при решении задачи 3."
   ],
   "metadata": {}
  },
  {
   "cell_type": "code",
   "source": [
    "import matplotlib.pyplot as plt\n",
    "\n",
    "class ROCDecorator:\n",
    "\n",
    "    def __init__(self, y, b_f):\n",
    "        self.y = y\n",
    "        self.b_f = b_f\n",
    "        self.fprs = []\n",
    "        self.tprs = []\n",
    "\n",
    "    def calculate_metrics(self, ts):\n",
    "        b_f = self.b_f\n",
    "        y = self.y\n",
    "        fprs, tprs  = [], []\n",
    "        for t in ts:\n",
    "            y_pred = [(-1 if b < t else 1) for b in b_f]\n",
    "            tp, fp, tn, fn = 0, 0, 0, 0\n",
    "            for i in range(len(y_pred)):\n",
    "                tp += self.__is_tp(y_pred[i], y[i])\n",
    "                fp += self.__is_fp(y_pred[i], y[i])\n",
    "                tn += self.__is_tn(y_pred[i], y[i])\n",
    "                fn += self.__is_fn(y_pred[i], y[i])\n",
    "            fprs.append(self.__fetch_fpr(fp, tn))\n",
    "            tprs.append(self.__fetch_tpr(tp, fn))\n",
    "\n",
    "        self.fprs = fprs\n",
    "        self.tprs = tprs\n",
    "\n",
    "    def show_roc_graph(self):\n",
    "        plt.plot(self.fprs, self.tprs, linestyle=\"-\")\n",
    "        plt.show()\n",
    "\n",
    "    def __fetch_fpr(self, fp, tn):\n",
    "        return fp / (fp + tn)\n",
    "\n",
    "    def __fetch_tpr(self, tp, fn):\n",
    "        return tp / (tp + fn)\n",
    "\n",
    "    def __is_tp(self, a_x, y):\n",
    "        return a_x == 1 and y == 1\n",
    "\n",
    "    def __is_fp(self, a_x, y):\n",
    "        return a_x == 1 and y == -1\n",
    "\n",
    "    def __is_fn(self, a_x, y):\n",
    "        return a_x == -1 and y == 1\n",
    "\n",
    "    def __is_tn(self, a_x, y):\n",
    "        return a_x == -1 and y == -1"
   ],
   "metadata": {},
   "execution_count": 43,
   "outputs": []
  },
  {
   "cell_type": "code",
   "execution_count": 44,
   "outputs": [
    {
     "data": {
      "text/plain": "<Figure size 432x288 with 1 Axes>",
      "image/png": "[encoded data removed]"
     },
     "metadata": {
      "needs_background": "light"
     },
     "output_type": "display_data"
    }
   ],
   "source": [
    "roc_decorator = ROCDecorator(\n",
    "    y=[-1, -1, 1,-1, 1, -1, 1],\n",
    "    b_f=[-8, -5, -1, 1, 3, 7, 15]\n",
    ")\n",
    "\n",
    "roc_decorator.calculate_metrics(\n",
    "    ts=range(-9, 16)\n",
    ")\n",
    "\n",
    "roc_decorator.show_roc_graph()"
   ],
   "metadata": {
    "collapsed": false,
    "pycharm": {
     "name": "#%%\n"
    }
   }
  }
 ]
}