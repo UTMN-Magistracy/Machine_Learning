{
 "cells": [
  {
   "cell_type": "code",
   "execution_count": 1,
   "metadata": {
    "collapsed": true,
    "pycharm": {
     "name": "#%%\n"
    }
   },
   "outputs": [],
   "source": [
    "import numpy as np\n",
    "import pandas as pd\n",
    "from sklearn.model_selection import KFold\n",
    "from sklearn.model_selection import StratifiedKFold\n",
    "from sklearn.model_selection import ShuffleSplit\n",
    "from sklearn.model_selection import StratifiedShuffleSplit\n",
    "from sklearn.model_selection import LeaveOneOut"
   ]
  },
  {
   "cell_type": "markdown",
   "source": [
    "Сформировать текстовый файл, содержащий список группы с указанием для\n",
    "каждого студента имеется/не имеется задолженность за последнюю сессию (например, в формате 0/1).\n",
    "В списке должно быть не менее 15-20 записей. Импортировать эти данные в объект Pandas DataFrame."
   ],
   "metadata": {
    "collapsed": false,
    "pycharm": {
     "name": "#%% md\n"
    }
   }
  },
  {
   "cell_type": "code",
   "execution_count": 2,
   "outputs": [
    {
     "data": {
      "text/plain": "      student  score\n0    student1      0\n1    student2      1\n2    student3      0\n3    student4      0\n4    student5      0\n5    student6      1\n6    student7      0\n7    student8      0\n8    student9      1\n9   student10      0\n10  student11      1\n11  student12      0\n12  student13      0\n13  student14      1\n14  student15      0\n15  student16      0\n16  student17      1\n17  student18      1\n18  student19      0\n19  student20      1",
      "text/html": "<div>\n<style scoped>\n    .dataframe tbody tr th:only-of-type {\n        vertical-align: middle;\n    }\n\n    .dataframe tbody tr th {\n        vertical-align: top;\n    }\n\n    .dataframe thead th {\n        text-align: right;\n    }\n</style>\n<table border=\"1\" class=\"dataframe\">\n  <thead>\n    <tr style=\"text-align: right;\">\n      <th></th>\n      <th>student</th>\n      <th>score</th>\n    </tr>\n  </thead>\n  <tbody>\n    <tr>\n      <th>0</th>\n      <td>student1</td>\n      <td>0</td>\n    </tr>\n    <tr>\n      <th>1</th>\n      <td>student2</td>\n      <td>1</td>\n    </tr>\n    <tr>\n      <th>2</th>\n      <td>student3</td>\n      <td>0</td>\n    </tr>\n    <tr>\n      <th>3</th>\n      <td>student4</td>\n      <td>0</td>\n    </tr>\n    <tr>\n      <th>4</th>\n      <td>student5</td>\n      <td>0</td>\n    </tr>\n    <tr>\n      <th>5</th>\n      <td>student6</td>\n      <td>1</td>\n    </tr>\n    <tr>\n      <th>6</th>\n      <td>student7</td>\n      <td>0</td>\n    </tr>\n    <tr>\n      <th>7</th>\n      <td>student8</td>\n      <td>0</td>\n    </tr>\n    <tr>\n      <th>8</th>\n      <td>student9</td>\n      <td>1</td>\n    </tr>\n    <tr>\n      <th>9</th>\n      <td>student10</td>\n      <td>0</td>\n    </tr>\n    <tr>\n      <th>10</th>\n      <td>student11</td>\n      <td>1</td>\n    </tr>\n    <tr>\n      <th>11</th>\n      <td>student12</td>\n      <td>0</td>\n    </tr>\n    <tr>\n      <th>12</th>\n      <td>student13</td>\n      <td>0</td>\n    </tr>\n    <tr>\n      <th>13</th>\n      <td>student14</td>\n      <td>1</td>\n    </tr>\n    <tr>\n      <th>14</th>\n      <td>student15</td>\n      <td>0</td>\n    </tr>\n    <tr>\n      <th>15</th>\n      <td>student16</td>\n      <td>0</td>\n    </tr>\n    <tr>\n      <th>16</th>\n      <td>student17</td>\n      <td>1</td>\n    </tr>\n    <tr>\n      <th>17</th>\n      <td>student18</td>\n      <td>1</td>\n    </tr>\n    <tr>\n      <th>18</th>\n      <td>student19</td>\n      <td>0</td>\n    </tr>\n    <tr>\n      <th>19</th>\n      <td>student20</td>\n      <td>1</td>\n    </tr>\n  </tbody>\n</table>\n</div>"
     },
     "execution_count": 2,
     "metadata": {},
     "output_type": "execute_result"
    }
   ],
   "source": [
    "df = pd.read_csv('../data/students_list.csv')\n",
    "X, y = np.array(df.student), np.array(df.score)\n",
    "df"
   ],
   "metadata": {
    "collapsed": false,
    "pycharm": {
     "name": "#%%\n"
    }
   }
  },
  {
   "cell_type": "markdown",
   "source": [
    "Применить стратегию KFold с разбиением на 5 блоков без перемешивания. Вывести списки индексов объектов, попавших\n",
    "в обучающую и тестовую выборку на каждой итерации, и сформировать собственно обучающие и тестовые выборки (данные и метки классов)."
   ],
   "metadata": {
    "collapsed": false,
    "pycharm": {
     "name": "#%% md\n"
    }
   }
  },
  {
   "cell_type": "code",
   "execution_count": 3,
   "outputs": [
    {
     "name": "stdout",
     "output_type": "stream",
     "text": [
      "Train: [ 4  5  6  7  8  9 10 11 12 13 14 15 16 17 18 19]\n",
      "Test: [0 1 2 3]\n",
      "\n",
      "Train: [ 0  1  2  3  8  9 10 11 12 13 14 15 16 17 18 19]\n",
      "Test: [4 5 6 7]\n",
      "\n",
      "Train: [ 0  1  2  3  4  5  6  7 12 13 14 15 16 17 18 19]\n",
      "Test: [ 8  9 10 11]\n",
      "\n",
      "Train: [ 0  1  2  3  4  5  6  7  8  9 10 11 16 17 18 19]\n",
      "Test: [12 13 14 15]\n",
      "\n",
      "Train: [ 0  1  2  3  4  5  6  7  8  9 10 11 12 13 14 15]\n",
      "Test: [16 17 18 19]\n",
      "\n"
     ]
    }
   ],
   "source": [
    "k_fold = KFold(n_splits=5)\n",
    "# Generate indices to split data into training and test set.\n",
    "# каждый объект попадает в тестровую выборку\n",
    "for train, test in k_fold.split(X, y):\n",
    "    print(f'Train: {train}')\n",
    "    print(f'Test: {test}\\n')"
   ],
   "metadata": {
    "collapsed": false,
    "pycharm": {
     "name": "#%%\n"
    }
   }
  },
  {
   "cell_type": "markdown",
   "source": [
    "Применить стратегию KFold с разбиением на 5 блоков с перемешиванием. Вывести списки индексов объектов,\n",
    "попавших в обучающую и тестовую выборку на каждой итерации, и сформировать собственно обучающие и тестовые выборки (данные и метки классов).\n",
    "Сравнить с результатами п. 2.1, дать объяснения.\n",
    "\n",
    "**Вывод**: при shuffle=True, все данные сначала перемешиваются, а затем разбиваются на K-Folds\n",
    "\n",
    "**Delete**: Если наши параметры зависят от перетасовки, это означает, что наш выбор параметров очень нестабилен.\n",
    "Перемешивание в основном полезно, если наши данные отсортированы по классам, потому что тогда каждая складка может содержать образцы только из одного класса."
   ],
   "metadata": {
    "collapsed": false,
    "pycharm": {
     "name": "#%% md\n"
    }
   }
  },
  {
   "cell_type": "code",
   "execution_count": 4,
   "outputs": [
    {
     "name": "stdout",
     "output_type": "stream",
     "text": [
      "Train: [ 0  1  2  3  4  5  7  8  9 11 13 14 15 17 18 19]\n",
      "Test: [ 6 10 12 16]\n",
      "\n",
      "Train: [ 1  2  3  4  5  6  7  8  9 10 12 13 14 16 17 18]\n",
      "Test: [ 0 11 15 19]\n",
      "\n",
      "Train: [ 0  1  3  4  5  6  7  8  9 10 11 12 13 15 16 19]\n",
      "Test: [ 2 14 17 18]\n",
      "\n",
      "Train: [ 0  2  3  5  6  8  9 10 11 12 14 15 16 17 18 19]\n",
      "Test: [ 1  4  7 13]\n",
      "\n",
      "Train: [ 0  1  2  4  6  7 10 11 12 13 14 15 16 17 18 19]\n",
      "Test: [3 5 8 9]\n",
      "\n"
     ]
    }
   ],
   "source": [
    "k_fold_shuffled = KFold(n_splits=5, shuffle=True)\n",
    "\n",
    "for train, test in k_fold_shuffled.split(X, y):\n",
    "    print(f'Train: {train}')\n",
    "    print(f'Test: {test}\\n')"
   ],
   "metadata": {
    "collapsed": false,
    "pycharm": {
     "name": "#%%\n"
    }
   }
  },
  {
   "cell_type": "markdown",
   "source": [
    "Применить стратегию StratifiedKFold с разбиением на 5 блоков. Вывести списки индексов объектов,\n",
    "попавших в обучающую и тестовую выборку на каждой итерации, и сформировать собственно обучающие и тестовые выборки (данные и метки классов).\n",
    "Сравнить с результатами п. 2.1 и 2.2, дать объяснения.\n",
    "\n",
    "**Вывод**: при формировании блоков сохраняется соотношение классов в обучающих и\n",
    "тестовых выборках"
   ],
   "metadata": {
    "collapsed": false,
    "pycharm": {
     "name": "#%% md\n"
    }
   }
  },
  {
   "cell_type": "code",
   "execution_count": 5,
   "outputs": [
    {
     "name": "stdout",
     "output_type": "stream",
     "text": [
      "Train: [ 4  5  6  7  8  9 10 11 12 13 14 15 16 17 18 19]\n",
      "Test: [0 1 2 3]\n",
      "\n",
      "Train: [ 0  1  2  3  8  9 10 11 12 13 14 15 16 17 18 19]\n",
      "Test: [4 5 6 7]\n",
      "\n",
      "Train: [ 0  1  2  3  4  5  6  7 12 13 14 15 16 17 18 19]\n",
      "Test: [ 8  9 10 11]\n",
      "\n",
      "Train: [ 0  1  2  3  4  5  6  7  8  9 10 11 15 17 18 19]\n",
      "Test: [12 13 14 16]\n",
      "\n",
      "Train: [ 0  1  2  3  4  5  6  7  8  9 10 11 12 13 14 16]\n",
      "Test: [15 17 18 19]\n",
      "\n"
     ]
    }
   ],
   "source": [
    "s_k_fold = StratifiedKFold(n_splits=5)\n",
    "\n",
    "for train, test in s_k_fold.split(X, y):\n",
    "    print(f'Train: {train}')\n",
    "    print(f'Test: {test}\\n')\n"
   ],
   "metadata": {
    "collapsed": false,
    "pycharm": {
     "name": "#%%\n"
    }
   }
  },
  {
   "cell_type": "markdown",
   "source": [
    "Применить стратегию ShuffleSplit с разбиением на 10 блоков. Вывести списки индексов объектов, попавших в обучающую\n",
    "и тестовую выборку на каждой итерации, и сформировать собственно обучающие и тестовые выборки (данные и метки классов).\n",
    "Сравнить с предыдущими результатами, дать объяснения.\n",
    "\n",
    "**Вывод**: каждый объект может неоднократно участвовать как в обучении,так и в тестировании.\n",
    "ShuffleSplit будет случайным образом выбирать обучающую выборку и тестовую на каждой итерации."
   ],
   "metadata": {
    "collapsed": false,
    "pycharm": {
     "name": "#%% md\n"
    }
   }
  },
  {
   "cell_type": "code",
   "execution_count": 6,
   "outputs": [
    {
     "name": "stdout",
     "output_type": "stream",
     "text": [
      "Train: [18 17 12  4  2 15 14 16 19  3  1  7  5  6 10 13  9  0]\n",
      "Test: [ 8 11]\n",
      "\n",
      "Train: [14 15  1  8  6 12  4 18  9 13  2 17  5 10 16  3  0 19]\n",
      "Test: [11  7]\n",
      "\n",
      "Train: [17  0  4  9  1  3  8 13  2 18 14  7  6 16 10 12 11 19]\n",
      "Test: [15  5]\n",
      "\n",
      "Train: [ 1  3 11 16 15  9  0 12  6  7 19  2  4  8 18 10  5 13]\n",
      "Test: [17 14]\n",
      "\n",
      "Train: [13  1 11  8  4 12 15  2 16 17  0 18 10  3  6 19  7  9]\n",
      "Test: [ 5 14]\n",
      "\n",
      "Train: [16  6  8  2 15 14  4 19 12 13  7 11  9 10 18  5  3  1]\n",
      "Test: [ 0 17]\n",
      "\n",
      "Train: [10 19  1 15 17 11 16 13 12  2 14  6  0  3  5  8  4 18]\n",
      "Test: [9 7]\n",
      "\n",
      "Train: [ 2 15 16  3  8  0 12  5  1  9  4  6 18 17 10 19 14 11]\n",
      "Test: [13  7]\n",
      "\n",
      "Train: [ 3 16  0  8 14 13  1  2 17 11 15 10  9 12  6  5  4  7]\n",
      "Test: [18 19]\n",
      "\n",
      "Train: [ 8 11 16  9 15  7  0 12 18  6  4 17  1  5 14 19  3 10]\n",
      "Test: [ 2 13]\n",
      "\n"
     ]
    }
   ],
   "source": [
    "shuffle = ShuffleSplit(n_splits=10)\n",
    "\n",
    "for train, test in shuffle.split(X, y):\n",
    "    print(f'Train: {train}')\n",
    "    print(f'Test: {test}\\n')"
   ],
   "metadata": {
    "collapsed": false,
    "pycharm": {
     "name": "#%%\n"
    }
   }
  },
  {
   "cell_type": "markdown",
   "source": [
    "Применить стратегию StratifiedShuffleSplit с разбиением на 10 блоков.\n",
    "Вывести списки индексов объектов, попавших в обучающую и тестовую выборку на каждой итерации, и сформировать собственно обучающие и тестовые выборки (данные и метки классов).\n",
    "Сравнить с результатами п. 2.4, дать объяснения.\n",
    "\n",
    "**Вывод**: при формировании блоков сохраняется соотношение классов в обучающих и тестовых выборках"
   ],
   "metadata": {
    "collapsed": false,
    "pycharm": {
     "name": "#%% md\n"
    }
   }
  },
  {
   "cell_type": "code",
   "execution_count": 7,
   "outputs": [
    {
     "name": "stdout",
     "output_type": "stream",
     "text": [
      "Train: [17 13  0  7 19  9 16  6  8 18  3  5 15  2 11  4 12  1]\n",
      "Test: [10 14]\n",
      "\n",
      "Train: [16 17 19 12 11 10  2 13  4  6  8  3  5 14 15  9 18  7]\n",
      "Test: [0 1]\n",
      "\n",
      "Train: [14 13 17 18  2 15 11  4  6  3  1 19 10 16  8  9  7  0]\n",
      "Test: [ 5 12]\n",
      "\n",
      "Train: [10 17 14 15  6  5  2 12 19 11  4  8  3 18 16  1  7  9]\n",
      "Test: [ 0 13]\n",
      "\n",
      "Train: [16  4 15 14  7 11  0 19  8  3  1 18  9  5  2 17 12 13]\n",
      "Test: [10  6]\n",
      "\n",
      "Train: [ 5  4 17  2 18  9 16 15 19 10 12 13  8  3 11 14  0  7]\n",
      "Test: [1 6]\n",
      "\n",
      "Train: [ 1  5 19  0 16  7 12  4 18  3 10 13  2  9 17 11 14  6]\n",
      "Test: [ 8 15]\n",
      "\n",
      "Train: [ 4 13  9  1  7 10 18  3 19 14  5 11 12 16 17  6  2 15]\n",
      "Test: [0 8]\n",
      "\n",
      "Train: [18  8  1  3  9  5  2 14 10 16 12  6 19 11  7 13  4 15]\n",
      "Test: [ 0 17]\n",
      "\n",
      "Train: [19  8  3 10 11 18 12 15  9  2  7  5 13 16  0  6  4 17]\n",
      "Test: [ 1 14]\n",
      "\n"
     ]
    }
   ],
   "source": [
    "stratified_shuffle = StratifiedShuffleSplit(n_splits=10)\n",
    "\n",
    "for train, test in stratified_shuffle.split(X, y):\n",
    "    print(f'Train: {train}')\n",
    "    print(f'Test: {test}\\n')"
   ],
   "metadata": {
    "collapsed": false,
    "pycharm": {
     "name": "#%%\n"
    }
   }
  },
  {
   "cell_type": "markdown",
   "source": [
    "Применить стратегию LeaveOneOut. Вывести списки индексов объектов, попавших в обучающую и тестовую выборку на каждой итерации,\n",
    "и сформировать собственно обучающие и тестовые выборки (данные и метки классов).\n",
    "\n",
    "**Вывод**: каждый объект используется ровно один раз в качестве тестовой выборки"
   ],
   "metadata": {
    "collapsed": false,
    "pycharm": {
     "name": "#%% md\n"
    }
   }
  },
  {
   "cell_type": "code",
   "execution_count": 8,
   "outputs": [
    {
     "name": "stdout",
     "output_type": "stream",
     "text": [
      "Train: [ 1  2  3  4  5  6  7  8  9 10 11 12 13 14 15 16 17 18 19]\n",
      "Test: [0]\n",
      "\n",
      "Train: [ 0  2  3  4  5  6  7  8  9 10 11 12 13 14 15 16 17 18 19]\n",
      "Test: [1]\n",
      "\n",
      "Train: [ 0  1  3  4  5  6  7  8  9 10 11 12 13 14 15 16 17 18 19]\n",
      "Test: [2]\n",
      "\n",
      "Train: [ 0  1  2  4  5  6  7  8  9 10 11 12 13 14 15 16 17 18 19]\n",
      "Test: [3]\n",
      "\n",
      "Train: [ 0  1  2  3  5  6  7  8  9 10 11 12 13 14 15 16 17 18 19]\n",
      "Test: [4]\n",
      "\n",
      "Train: [ 0  1  2  3  4  6  7  8  9 10 11 12 13 14 15 16 17 18 19]\n",
      "Test: [5]\n",
      "\n",
      "Train: [ 0  1  2  3  4  5  7  8  9 10 11 12 13 14 15 16 17 18 19]\n",
      "Test: [6]\n",
      "\n",
      "Train: [ 0  1  2  3  4  5  6  8  9 10 11 12 13 14 15 16 17 18 19]\n",
      "Test: [7]\n",
      "\n",
      "Train: [ 0  1  2  3  4  5  6  7  9 10 11 12 13 14 15 16 17 18 19]\n",
      "Test: [8]\n",
      "\n",
      "Train: [ 0  1  2  3  4  5  6  7  8 10 11 12 13 14 15 16 17 18 19]\n",
      "Test: [9]\n",
      "\n",
      "Train: [ 0  1  2  3  4  5  6  7  8  9 11 12 13 14 15 16 17 18 19]\n",
      "Test: [10]\n",
      "\n",
      "Train: [ 0  1  2  3  4  5  6  7  8  9 10 12 13 14 15 16 17 18 19]\n",
      "Test: [11]\n",
      "\n",
      "Train: [ 0  1  2  3  4  5  6  7  8  9 10 11 13 14 15 16 17 18 19]\n",
      "Test: [12]\n",
      "\n",
      "Train: [ 0  1  2  3  4  5  6  7  8  9 10 11 12 14 15 16 17 18 19]\n",
      "Test: [13]\n",
      "\n",
      "Train: [ 0  1  2  3  4  5  6  7  8  9 10 11 12 13 15 16 17 18 19]\n",
      "Test: [14]\n",
      "\n",
      "Train: [ 0  1  2  3  4  5  6  7  8  9 10 11 12 13 14 16 17 18 19]\n",
      "Test: [15]\n",
      "\n",
      "Train: [ 0  1  2  3  4  5  6  7  8  9 10 11 12 13 14 15 17 18 19]\n",
      "Test: [16]\n",
      "\n",
      "Train: [ 0  1  2  3  4  5  6  7  8  9 10 11 12 13 14 15 16 18 19]\n",
      "Test: [17]\n",
      "\n",
      "Train: [ 0  1  2  3  4  5  6  7  8  9 10 11 12 13 14 15 16 17 19]\n",
      "Test: [18]\n",
      "\n",
      "Train: [ 0  1  2  3  4  5  6  7  8  9 10 11 12 13 14 15 16 17 18]\n",
      "Test: [19]\n",
      "\n"
     ]
    }
   ],
   "source": [
    "leave_one_out = LeaveOneOut()\n",
    "\n",
    "for train, test in leave_one_out.split(X, y):\n",
    "    print(f'Train: {train}')\n",
    "    print(f'Test: {test}\\n')"
   ],
   "metadata": {
    "collapsed": false,
    "pycharm": {
     "name": "#%%\n"
    }
   }
  }
 ],
 "metadata": {
  "kernelspec": {
   "display_name": "Python 3",
   "language": "python",
   "name": "python3"
  },
  "language_info": {
   "codemirror_mode": {
    "name": "ipython",
    "version": 2
   },
   "file_extension": ".py",
   "mimetype": "text/x-python",
   "name": "python",
   "nbconvert_exporter": "python",
   "pygments_lexer": "ipython2",
   "version": "2.7.6"
  }
 },
 "nbformat": 4,
 "nbformat_minor": 0
}