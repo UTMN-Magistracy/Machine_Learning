{
 "cells": [
  {
   "cell_type": "code",
   "execution_count": 1,
   "metadata": {
    "collapsed": true
   },
   "outputs": [],
   "source": [
    "import numpy as np\n",
    "import pandas as pd\n",
    "from sklearn.model_selection import KFold\n",
    "from sklearn.model_selection import StratifiedKFold\n",
    "from sklearn.model_selection import ShuffleSplit\n",
    "from sklearn.model_selection import StratifiedShuffleSplit\n",
    "from sklearn.model_selection import LeaveOneOut"
   ]
  },
  {
   "cell_type": "markdown",
   "source": [
    "Сформировать текстовый файл, содержащий список группы с указанием для\n",
    "каждого студента имеется/не имеется задолженность за последнюю сессию (например, в формате 0/1).\n",
    "В списке должно быть не менее 15-20 записей. Импортировать эти данные в объект Pandas DataFrame."
   ],
   "metadata": {
    "collapsed": false,
    "pycharm": {
     "name": "#%% md\n"
    }
   }
  },
  {
   "cell_type": "code",
   "execution_count": 2,
   "outputs": [
    {
     "data": {
      "text/plain": "      student  score\n0    student1      0\n1    student2      1\n2    student3      0\n3    student4      0\n4    student5      0\n5    student6      1\n6    student7      0\n7    student8      0\n8    student9      1\n9   student10      0\n10  student11      1\n11  student12      0\n12  student13      0\n13  student14      1\n14  student15      0\n15  student16      0\n16  student17      1\n17  student18      1\n18  student19      0\n19  student20      1",
      "text/html": "<div>\n<style scoped>\n    .dataframe tbody tr th:only-of-type {\n        vertical-align: middle;\n    }\n\n    .dataframe tbody tr th {\n        vertical-align: top;\n    }\n\n    .dataframe thead th {\n        text-align: right;\n    }\n</style>\n<table border=\"1\" class=\"dataframe\">\n  <thead>\n    <tr style=\"text-align: right;\">\n      <th></th>\n      <th>student</th>\n      <th>score</th>\n    </tr>\n  </thead>\n  <tbody>\n    <tr>\n      <th>0</th>\n      <td>student1</td>\n      <td>0</td>\n    </tr>\n    <tr>\n      <th>1</th>\n      <td>student2</td>\n      <td>1</td>\n    </tr>\n    <tr>\n      <th>2</th>\n      <td>student3</td>\n      <td>0</td>\n    </tr>\n    <tr>\n      <th>3</th>\n      <td>student4</td>\n      <td>0</td>\n    </tr>\n    <tr>\n      <th>4</th>\n      <td>student5</td>\n      <td>0</td>\n    </tr>\n    <tr>\n      <th>5</th>\n      <td>student6</td>\n      <td>1</td>\n    </tr>\n    <tr>\n      <th>6</th>\n      <td>student7</td>\n      <td>0</td>\n    </tr>\n    <tr>\n      <th>7</th>\n      <td>student8</td>\n      <td>0</td>\n    </tr>\n    <tr>\n      <th>8</th>\n      <td>student9</td>\n      <td>1</td>\n    </tr>\n    <tr>\n      <th>9</th>\n      <td>student10</td>\n      <td>0</td>\n    </tr>\n    <tr>\n      <th>10</th>\n      <td>student11</td>\n      <td>1</td>\n    </tr>\n    <tr>\n      <th>11</th>\n      <td>student12</td>\n      <td>0</td>\n    </tr>\n    <tr>\n      <th>12</th>\n      <td>student13</td>\n      <td>0</td>\n    </tr>\n    <tr>\n      <th>13</th>\n      <td>student14</td>\n      <td>1</td>\n    </tr>\n    <tr>\n      <th>14</th>\n      <td>student15</td>\n      <td>0</td>\n    </tr>\n    <tr>\n      <th>15</th>\n      <td>student16</td>\n      <td>0</td>\n    </tr>\n    <tr>\n      <th>16</th>\n      <td>student17</td>\n      <td>1</td>\n    </tr>\n    <tr>\n      <th>17</th>\n      <td>student18</td>\n      <td>1</td>\n    </tr>\n    <tr>\n      <th>18</th>\n      <td>student19</td>\n      <td>0</td>\n    </tr>\n    <tr>\n      <th>19</th>\n      <td>student20</td>\n      <td>1</td>\n    </tr>\n  </tbody>\n</table>\n</div>"
     },
     "execution_count": 2,
     "metadata": {},
     "output_type": "execute_result"
    }
   ],
   "source": [
    "df = pd.read_csv('../data/students_list.csv')\n",
    "X, y = np.array(df.student), np.array(df.score)\n",
    "df"
   ],
   "metadata": {
    "collapsed": false,
    "pycharm": {
     "name": "#%%\n"
    }
   }
  },
  {
   "cell_type": "markdown",
   "source": [
    "Применить стратегию KFold с разбиением на 5 блоков без перемешивания. Вывести списки индексов объектов, попавших\n",
    "в обучающую и тестовую выборку на каждой итерации, и сформировать собственно обучающие и тестовые выборки (данные и метки классов)."
   ],
   "metadata": {
    "collapsed": false
   }
  },
  {
   "cell_type": "code",
   "execution_count": 3,
   "outputs": [
    {
     "name": "stdout",
     "output_type": "stream",
     "text": [
      "Train: [ 4  5  6  7  8  9 10 11 12 13 14 15 16 17 18 19]\n",
      "Test: [0 1 2 3]\n",
      "\n",
      "Train: [ 0  1  2  3  8  9 10 11 12 13 14 15 16 17 18 19]\n",
      "Test: [4 5 6 7]\n",
      "\n",
      "Train: [ 0  1  2  3  4  5  6  7 12 13 14 15 16 17 18 19]\n",
      "Test: [ 8  9 10 11]\n",
      "\n",
      "Train: [ 0  1  2  3  4  5  6  7  8  9 10 11 16 17 18 19]\n",
      "Test: [12 13 14 15]\n",
      "\n",
      "Train: [ 0  1  2  3  4  5  6  7  8  9 10 11 12 13 14 15]\n",
      "Test: [16 17 18 19]\n",
      "\n"
     ]
    }
   ],
   "source": [
    "k_fold = KFold(n_splits=5)\n",
    "# Generate indices to split data into training and test set.\n",
    "# каждый объект попадает в тестровую выборку\n",
    "for train, test in k_fold.split(X, y):\n",
    "    print(f'Train: {train}')\n",
    "    print(f'Test: {test}\\n')"
   ],
   "metadata": {
    "collapsed": false,
    "pycharm": {
     "name": "#%%\n"
    }
   }
  },
  {
   "cell_type": "markdown",
   "source": [
    "Применить стратегию KFold с разбиением на 5 блоков с перемешиванием. Вывести списки индексов объектов,\n",
    "попавших в обучающую и тестовую выборку на каждой итерации, и сформировать собственно обучающие и тестовые выборки (данные и метки классов).\n",
    "Сравнить с результатами п. 2.1, дать объяснения.\n",
    "\n",
    "**Вывод**: при shuffle=True, все данные сначала перемешиваются, а затем разбиваются на K-Folds\n",
    "\n",
    "**Delete**: Если наши параметры зависят от перетасовки, это означает, что наш выбор параметров очень нестабилен.\n",
    "Перемешивание в основном полезно, если наши данные отсортированы по классам, потому что тогда каждая складка может содержать образцы только из одного класса."
   ],
   "metadata": {
    "collapsed": false
   }
  },
  {
   "cell_type": "code",
   "execution_count": 4,
   "outputs": [
    {
     "name": "stdout",
     "output_type": "stream",
     "text": [
      "Train: [ 0  1  2  3  4  5  6  8  9 11 12 13 14 15 17 18]\n",
      "Test: [ 7 10 16 19]\n",
      "\n",
      "Train: [ 0  1  2  4  5  6  7  9 10 12 13 14 16 17 18 19]\n",
      "Test: [ 3  8 11 15]\n",
      "\n",
      "Train: [ 0  1  3  5  6  7  8  9 10 11 13 14 15 16 17 19]\n",
      "Test: [ 2  4 12 18]\n",
      "\n",
      "Train: [ 0  2  3  4  6  7  8  9 10 11 12 14 15 16 18 19]\n",
      "Test: [ 1  5 13 17]\n",
      "\n",
      "Train: [ 1  2  3  4  5  7  8 10 11 12 13 15 16 17 18 19]\n",
      "Test: [ 0  6  9 14]\n",
      "\n"
     ]
    }
   ],
   "source": [
    "k_fold_shuffled = KFold(n_splits=5, shuffle=True)\n",
    "\n",
    "for train, test in k_fold_shuffled.split(X, y):\n",
    "    print(f'Train: {train}')\n",
    "    print(f'Test: {test}\\n')"
   ],
   "metadata": {
    "collapsed": false,
    "pycharm": {
     "name": "#%%\n"
    }
   }
  },
  {
   "cell_type": "markdown",
   "source": [
    "Применить стратегию StratifiedKFold с разбиением на 5 блоков. Вывести списки индексов объектов,\n",
    "попавших в обучающую и тестовую выборку на каждой итерации, и сформировать собственно обучающие и тестовые выборки (данные и метки классов).\n",
    "Сравнить с результатами п. 2.1 и 2.2, дать объяснения.\n",
    "\n",
    "**Вывод**: при формировании блоков сохраняется соотношение классов в обучающих и\n",
    "тестовых выборках"
   ],
   "metadata": {
    "collapsed": false
   }
  },
  {
   "cell_type": "code",
   "execution_count": 5,
   "outputs": [
    {
     "name": "stdout",
     "output_type": "stream",
     "text": [
      "Train: [ 4  5  6  7  8  9 10 11 12 13 14 15 16 17 18 19]\n",
      "Test: [0 1 2 3]\n",
      "\n",
      "Train: [ 0  1  2  3  8  9 10 11 12 13 14 15 16 17 18 19]\n",
      "Test: [4 5 6 7]\n",
      "\n",
      "Train: [ 0  1  2  3  4  5  6  7 12 13 14 15 16 17 18 19]\n",
      "Test: [ 8  9 10 11]\n",
      "\n",
      "Train: [ 0  1  2  3  4  5  6  7  8  9 10 11 15 17 18 19]\n",
      "Test: [12 13 14 16]\n",
      "\n",
      "Train: [ 0  1  2  3  4  5  6  7  8  9 10 11 12 13 14 16]\n",
      "Test: [15 17 18 19]\n",
      "\n"
     ]
    }
   ],
   "source": [
    "s_k_fold = StratifiedKFold(n_splits=5)\n",
    "\n",
    "for train, test in s_k_fold.split(X, y):\n",
    "    print(f'Train: {train}')\n",
    "    print(f'Test: {test}\\n')\n"
   ],
   "metadata": {
    "collapsed": false,
    "pycharm": {
     "name": "#%%\n"
    }
   }
  },
  {
   "cell_type": "markdown",
   "source": [
    "Применить стратегию ShuffleSplit с разбиением на 10 блоков. Вывести списки индексов объектов, попавших в обучающую\n",
    "и тестовую выборку на каждой итерации, и сформировать собственно обучающие и тестовые выборки (данные и метки классов).\n",
    "Сравнить с предыдущими результатами, дать объяснения.\n",
    "\n",
    "**Вывод**: каждый объект может неоднократно участвовать как в обучении,так и в тестировании.\n",
    "ShuffleSplit будет случайным образом выбирать обучающую выборку и тестовую на каждой итерации."
   ],
   "metadata": {
    "collapsed": false
   }
  },
  {
   "cell_type": "code",
   "execution_count": 6,
   "outputs": [
    {
     "name": "stdout",
     "output_type": "stream",
     "text": [
      "Train: [14  9  0 18  7 12 13  6  2 11 19 16 15  5  3  8  4 17]\n",
      "Test: [10  1]\n",
      "\n",
      "Train: [ 5  7  9 17 13  4 16  6 10  8  2  0 18 15 11  3  1 12]\n",
      "Test: [14 19]\n",
      "\n",
      "Train: [10  0 16 14 18  6  8 15 11  5  2  1  7 12 19  9  4 13]\n",
      "Test: [17  3]\n",
      "\n",
      "Train: [11 14 10 12  7  4 13  2  3  8  5  6  9  1 15 17 16 19]\n",
      "Test: [18  0]\n",
      "\n",
      "Train: [ 8  7  2 11  0  3 14  4 13 18  9  1  5 10 16 12 17 19]\n",
      "Test: [ 6 15]\n",
      "\n",
      "Train: [ 8 11 10  9 14 16  2  5  4  1  0 12  7 15 13  6 18 19]\n",
      "Test: [17  3]\n",
      "\n",
      "Train: [ 5 19 10  0  7 11 18 15  1  9  2 14 13 16  8 12  4  3]\n",
      "Test: [17  6]\n",
      "\n",
      "Train: [12  3  8 18 16  7  2  9 14  4 13  1  0 19 17 11  6  5]\n",
      "Test: [15 10]\n",
      "\n",
      "Train: [ 1 11  9 16  4 17 10  8  3 12  6  7 15 14 19  2 18  5]\n",
      "Test: [13  0]\n",
      "\n",
      "Train: [15 17  0 10  6 12  1  7  3  9  2 16  8 11  5  4 13 18]\n",
      "Test: [14 19]\n",
      "\n"
     ]
    }
   ],
   "source": [
    "shuffle = ShuffleSplit(n_splits=10)\n",
    "\n",
    "for train, test in shuffle.split(X, y):\n",
    "    print(f'Train: {train}')\n",
    "    print(f'Test: {test}\\n')"
   ],
   "metadata": {
    "collapsed": false,
    "pycharm": {
     "name": "#%%\n"
    }
   }
  },
  {
   "cell_type": "markdown",
   "source": [
    "Применить стратегию StratifiedShuffleSplit с разбиением на 10 блоков.\n",
    "Вывести списки индексов объектов, попавших в обучающую и тестовую выборку на каждой итерации, и сформировать собственно обучающие и тестовые выборки (данные и метки классов).\n",
    "Сравнить с результатами п. 2.4, дать объяснения.\n",
    "\n",
    "**Вывод**: при формировании блоков сохраняется соотношение классов в обучающих и тестовых выборках"
   ],
   "metadata": {
    "collapsed": false
   }
  },
  {
   "cell_type": "code",
   "execution_count": 7,
   "outputs": [
    {
     "name": "stdout",
     "output_type": "stream",
     "text": [
      "Train: [16 14 18  3  0  4  6 15  5  8 17 12  2  7 10  9  1 19]\n",
      "Test: [11 13]\n",
      "\n",
      "Train: [ 0  2 17 12  7 13 16  9  5 19  6  1  4  8  3 14 18 11]\n",
      "Test: [15 10]\n",
      "\n",
      "Train: [ 4  7 14  3 17  1  0 10  8  9 13 11  5 19 12 15  2 18]\n",
      "Test: [16  6]\n",
      "\n",
      "Train: [15 10  2 12  6  8  3 11 16  9  7  4 17 13  0 19 18  5]\n",
      "Test: [ 1 14]\n",
      "\n",
      "Train: [ 6  7  0 12  8 11  1  5 14  4  3  2 10  9 15 16 19 17]\n",
      "Test: [13 18]\n",
      "\n",
      "Train: [ 1  3 14  9  2 18  7 19 10  4  6  0 11 12  8 13 17  5]\n",
      "Test: [16 15]\n",
      "\n",
      "Train: [ 5 19 10 17  2 11  7 16  4  0 18  3 13 12  9  6 14  1]\n",
      "Test: [15  8]\n",
      "\n",
      "Train: [ 4 19  7 13  0  6  9 11  1 18 15 12  8 14  2 17  5 10]\n",
      "Test: [ 3 16]\n",
      "\n",
      "Train: [19  9  1 16 14  3 11 18 13  4 10 12 17  0  8  7 15  2]\n",
      "Test: [6 5]\n",
      "\n",
      "Train: [ 5 16  7 15 19  4  8  3 14 12  9  2 17  1 13 11  0 18]\n",
      "Test: [ 6 10]\n",
      "\n"
     ]
    }
   ],
   "source": [
    "stratified_shuffle = StratifiedShuffleSplit(n_splits=10)\n",
    "\n",
    "for train, test in stratified_shuffle.split(X, y):\n",
    "    print(f'Train: {train}')\n",
    "    print(f'Test: {test}\\n')"
   ],
   "metadata": {
    "collapsed": false,
    "pycharm": {
     "name": "#%%\n"
    }
   }
  },
  {
   "cell_type": "markdown",
   "source": [
    "Применить стратегию LeaveOneOut. Вывести списки индексов объектов, попавших в обучающую и тестовую выборку на каждой итерации,\n",
    "и сформировать собственно обучающие и тестовые выборки (данные и метки классов).\n",
    "\n",
    "**Вывод**: каждый объект используется ровно один раз в качестве тестовой выборки"
   ],
   "metadata": {
    "collapsed": false
   }
  },
  {
   "cell_type": "code",
   "execution_count": 8,
   "outputs": [
    {
     "name": "stdout",
     "output_type": "stream",
     "text": [
      "Train: [ 1  2  3  4  5  6  7  8  9 10 11 12 13 14 15 16 17 18 19]\n",
      "Test: [0]\n",
      "\n",
      "Train: [ 0  2  3  4  5  6  7  8  9 10 11 12 13 14 15 16 17 18 19]\n",
      "Test: [1]\n",
      "\n",
      "Train: [ 0  1  3  4  5  6  7  8  9 10 11 12 13 14 15 16 17 18 19]\n",
      "Test: [2]\n",
      "\n",
      "Train: [ 0  1  2  4  5  6  7  8  9 10 11 12 13 14 15 16 17 18 19]\n",
      "Test: [3]\n",
      "\n",
      "Train: [ 0  1  2  3  5  6  7  8  9 10 11 12 13 14 15 16 17 18 19]\n",
      "Test: [4]\n",
      "\n",
      "Train: [ 0  1  2  3  4  6  7  8  9 10 11 12 13 14 15 16 17 18 19]\n",
      "Test: [5]\n",
      "\n",
      "Train: [ 0  1  2  3  4  5  7  8  9 10 11 12 13 14 15 16 17 18 19]\n",
      "Test: [6]\n",
      "\n",
      "Train: [ 0  1  2  3  4  5  6  8  9 10 11 12 13 14 15 16 17 18 19]\n",
      "Test: [7]\n",
      "\n",
      "Train: [ 0  1  2  3  4  5  6  7  9 10 11 12 13 14 15 16 17 18 19]\n",
      "Test: [8]\n",
      "\n",
      "Train: [ 0  1  2  3  4  5  6  7  8 10 11 12 13 14 15 16 17 18 19]\n",
      "Test: [9]\n",
      "\n",
      "Train: [ 0  1  2  3  4  5  6  7  8  9 11 12 13 14 15 16 17 18 19]\n",
      "Test: [10]\n",
      "\n",
      "Train: [ 0  1  2  3  4  5  6  7  8  9 10 12 13 14 15 16 17 18 19]\n",
      "Test: [11]\n",
      "\n",
      "Train: [ 0  1  2  3  4  5  6  7  8  9 10 11 13 14 15 16 17 18 19]\n",
      "Test: [12]\n",
      "\n",
      "Train: [ 0  1  2  3  4  5  6  7  8  9 10 11 12 14 15 16 17 18 19]\n",
      "Test: [13]\n",
      "\n",
      "Train: [ 0  1  2  3  4  5  6  7  8  9 10 11 12 13 15 16 17 18 19]\n",
      "Test: [14]\n",
      "\n",
      "Train: [ 0  1  2  3  4  5  6  7  8  9 10 11 12 13 14 16 17 18 19]\n",
      "Test: [15]\n",
      "\n",
      "Train: [ 0  1  2  3  4  5  6  7  8  9 10 11 12 13 14 15 17 18 19]\n",
      "Test: [16]\n",
      "\n",
      "Train: [ 0  1  2  3  4  5  6  7  8  9 10 11 12 13 14 15 16 18 19]\n",
      "Test: [17]\n",
      "\n",
      "Train: [ 0  1  2  3  4  5  6  7  8  9 10 11 12 13 14 15 16 17 19]\n",
      "Test: [18]\n",
      "\n",
      "Train: [ 0  1  2  3  4  5  6  7  8  9 10 11 12 13 14 15 16 17 18]\n",
      "Test: [19]\n",
      "\n"
     ]
    }
   ],
   "source": [
    "leave_one_out = LeaveOneOut()\n",
    "\n",
    "for train, test in leave_one_out.split(X, y):\n",
    "    print(f'Train: {train}')\n",
    "    print(f'Test: {test}\\n')"
   ],
   "metadata": {
    "collapsed": false,
    "pycharm": {
     "name": "#%%\n"
    }
   }
  }
 ],
 "metadata": {
  "kernelspec": {
   "display_name": "Python 3",
   "language": "python",
   "name": "python3"
  },
  "language_info": {
   "codemirror_mode": {
    "name": "ipython",
    "version": 2
   },
   "file_extension": ".py",
   "mimetype": "text/x-python",
   "name": "python",
   "nbconvert_exporter": "python",
   "pygments_lexer": "ipython2",
   "version": "2.7.6"
  }
 },
 "nbformat": 4,
 "nbformat_minor": 0
}