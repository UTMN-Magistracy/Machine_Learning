{
 "cells": [
  {
   "cell_type": "code",
   "execution_count": 82,
   "metadata": {
    "collapsed": true
   },
   "outputs": [],
   "source": [
    "import numpy as np\n",
    "import pandas as pd\n",
    "from sklearn.model_selection import KFold\n",
    "from sklearn.model_selection import StratifiedKFold\n",
    "from sklearn.model_selection import ShuffleSplit\n",
    "from sklearn.model_selection import StratifiedShuffleSplit\n",
    "from sklearn.model_selection import LeaveOneOut"
   ]
  },
  {
   "cell_type": "markdown",
   "source": [
    "Сформировать текстовый файл, содержащий список группы с указанием для\n",
    "каждого студента имеется/не имеется задолженность за последнюю сессию (например, в формате 0/1).\n",
    "В списке должно быть не менее 15-20 записей. Импортировать эти данные в объект Pandas DataFrame."
   ],
   "metadata": {
    "collapsed": false,
    "pycharm": {
     "name": "#%% md\n"
    }
   }
  },
  {
   "cell_type": "code",
   "execution_count": 83,
   "outputs": [
    {
     "data": {
      "text/plain": "      student  score\n0    student1      0\n1    student2      1\n2    student3      0\n3    student4      0\n4    student5      0\n5    student6      1\n6    student7      0\n7    student8      0\n8    student9      1\n9   student10      0\n10  student11      1\n11  student12      0\n12  student13      0\n13  student14      1\n14  student15      0\n15  student16      0\n16  student17      1\n17  student18      1\n18  student19      0\n19  student20      1",
      "text/html": "<div>\n<style scoped>\n    .dataframe tbody tr th:only-of-type {\n        vertical-align: middle;\n    }\n\n    .dataframe tbody tr th {\n        vertical-align: top;\n    }\n\n    .dataframe thead th {\n        text-align: right;\n    }\n</style>\n<table border=\"1\" class=\"dataframe\">\n  <thead>\n    <tr style=\"text-align: right;\">\n      <th></th>\n      <th>student</th>\n      <th>score</th>\n    </tr>\n  </thead>\n  <tbody>\n    <tr>\n      <th>0</th>\n      <td>student1</td>\n      <td>0</td>\n    </tr>\n    <tr>\n      <th>1</th>\n      <td>student2</td>\n      <td>1</td>\n    </tr>\n    <tr>\n      <th>2</th>\n      <td>student3</td>\n      <td>0</td>\n    </tr>\n    <tr>\n      <th>3</th>\n      <td>student4</td>\n      <td>0</td>\n    </tr>\n    <tr>\n      <th>4</th>\n      <td>student5</td>\n      <td>0</td>\n    </tr>\n    <tr>\n      <th>5</th>\n      <td>student6</td>\n      <td>1</td>\n    </tr>\n    <tr>\n      <th>6</th>\n      <td>student7</td>\n      <td>0</td>\n    </tr>\n    <tr>\n      <th>7</th>\n      <td>student8</td>\n      <td>0</td>\n    </tr>\n    <tr>\n      <th>8</th>\n      <td>student9</td>\n      <td>1</td>\n    </tr>\n    <tr>\n      <th>9</th>\n      <td>student10</td>\n      <td>0</td>\n    </tr>\n    <tr>\n      <th>10</th>\n      <td>student11</td>\n      <td>1</td>\n    </tr>\n    <tr>\n      <th>11</th>\n      <td>student12</td>\n      <td>0</td>\n    </tr>\n    <tr>\n      <th>12</th>\n      <td>student13</td>\n      <td>0</td>\n    </tr>\n    <tr>\n      <th>13</th>\n      <td>student14</td>\n      <td>1</td>\n    </tr>\n    <tr>\n      <th>14</th>\n      <td>student15</td>\n      <td>0</td>\n    </tr>\n    <tr>\n      <th>15</th>\n      <td>student16</td>\n      <td>0</td>\n    </tr>\n    <tr>\n      <th>16</th>\n      <td>student17</td>\n      <td>1</td>\n    </tr>\n    <tr>\n      <th>17</th>\n      <td>student18</td>\n      <td>1</td>\n    </tr>\n    <tr>\n      <th>18</th>\n      <td>student19</td>\n      <td>0</td>\n    </tr>\n    <tr>\n      <th>19</th>\n      <td>student20</td>\n      <td>1</td>\n    </tr>\n  </tbody>\n</table>\n</div>"
     },
     "execution_count": 83,
     "metadata": {},
     "output_type": "execute_result"
    }
   ],
   "source": [
    "df = pd.read_csv('../data/students_list.csv')\n",
    "X, y = np.array(df.student), np.array(df.score)\n",
    "df"
   ],
   "metadata": {
    "collapsed": false,
    "pycharm": {
     "name": "#%%\n"
    }
   }
  },
  {
   "cell_type": "markdown",
   "source": [
    "Применить стратегию KFold с разбиением на 5 блоков без перемешивания. Вывести списки индексов объектов, попавших\n",
    "в обучающую и тестовую выборку на каждой итерации, и сформировать собственно обучающие и тестовые выборки (данные и метки классов)."
   ],
   "metadata": {
    "collapsed": false
   }
  },
  {
   "cell_type": "code",
   "execution_count": 84,
   "outputs": [
    {
     "name": "stdout",
     "output_type": "stream",
     "text": [
      "Train: [ 4  5  6  7  8  9 10 11 12 13 14 15 16 17 18 19]\n",
      "Test: [0 1 2 3]\n",
      "\n",
      "Train: [ 0  1  2  3  8  9 10 11 12 13 14 15 16 17 18 19]\n",
      "Test: [4 5 6 7]\n",
      "\n",
      "Train: [ 0  1  2  3  4  5  6  7 12 13 14 15 16 17 18 19]\n",
      "Test: [ 8  9 10 11]\n",
      "\n",
      "Train: [ 0  1  2  3  4  5  6  7  8  9 10 11 16 17 18 19]\n",
      "Test: [12 13 14 15]\n",
      "\n",
      "Train: [ 0  1  2  3  4  5  6  7  8  9 10 11 12 13 14 15]\n",
      "Test: [16 17 18 19]\n",
      "\n"
     ]
    }
   ],
   "source": [
    "k_fold = KFold(n_splits=5)\n",
    "# Generate indices to split data into training and test set.\n",
    "# каждый объект попадает в тестровую выборку\n",
    "for train, test in k_fold.split(X, y):\n",
    "    print(f'Train: {train}')\n",
    "    print(f'Test: {test}\\n')"
   ],
   "metadata": {
    "collapsed": false,
    "pycharm": {
     "name": "#%%\n"
    }
   }
  },
  {
   "cell_type": "markdown",
   "source": [
    "Применить стратегию KFold с разбиением на 5 блоков с перемешиванием. Вывести списки индексов объектов,\n",
    "попавших в обучающую и тестовую выборку на каждой итерации, и сформировать собственно обучающие и тестовые выборки (данные и метки классов).\n",
    "Сравнить с результатами п. 2.1, дать объяснения.\n",
    "\n",
    "**Вывод**: при shuffle=True, все данные сначала перемешиваются, а затем разбиваются на K-Folds\n",
    "\n",
    "**Delete**: Если наши параметры зависят от перетасовки, это означает, что наш выбор параметров очень нестабилен.\n",
    "Перемешивание в основном полезно, если наши данные отсортированы по классам, потому что тогда каждая складка может содержать образцы только из одного класса."
   ],
   "metadata": {
    "collapsed": false
   }
  },
  {
   "cell_type": "code",
   "execution_count": 85,
   "outputs": [
    {
     "name": "stdout",
     "output_type": "stream",
     "text": [
      "Train: [ 0  2  3  4  5  6  7  8  9 10 12 13 14 15 17 18]\n",
      "Test: [ 1 11 16 19]\n",
      "\n",
      "Train: [ 0  1  2  3  4  5  8  9 10 11 12 13 16 17 18 19]\n",
      "Test: [ 6  7 14 15]\n",
      "\n",
      "Train: [ 1  2  3  4  5  6  7  9 11 12 13 14 15 16 17 19]\n",
      "Test: [ 0  8 10 18]\n",
      "\n",
      "Train: [ 0  1  3  5  6  7  8 10 11 12 13 14 15 16 18 19]\n",
      "Test: [ 2  4  9 17]\n",
      "\n",
      "Train: [ 0  1  2  4  6  7  8  9 10 11 14 15 16 17 18 19]\n",
      "Test: [ 3  5 12 13]\n",
      "\n"
     ]
    }
   ],
   "source": [
    "k_fold_shuffled = KFold(n_splits=5, shuffle=True)\n",
    "\n",
    "for train, test in k_fold_shuffled.split(X, y):\n",
    "    print(f'Train: {train}')\n",
    "    print(f'Test: {test}\\n')"
   ],
   "metadata": {
    "collapsed": false,
    "pycharm": {
     "name": "#%%\n"
    }
   }
  },
  {
   "cell_type": "markdown",
   "source": [
    "Применить стратегию StratifiedKFold с разбиением на 5 блоков. Вывести списки индексов объектов,\n",
    "попавших в обучающую и тестовую выборку на каждой итерации, и сформировать собственно обучающие и тестовые выборки (данные и метки классов).\n",
    "Сравнить с результатами п. 2.1 и 2.2, дать объяснения.\n",
    "\n",
    "**Вывод**: при формировании блоков сохраняется соотношение классов в обучающих и\n",
    "тестовых выборках"
   ],
   "metadata": {
    "collapsed": false
   }
  },
  {
   "cell_type": "code",
   "execution_count": 86,
   "outputs": [
    {
     "name": "stdout",
     "output_type": "stream",
     "text": [
      "Train: [ 4  5  6  7  8  9 10 11 12 13 14 15 16 17 18 19]\n",
      "Test: [0 1 2 3]\n",
      "\n",
      "Train: [ 0  1  2  3  8  9 10 11 12 13 14 15 16 17 18 19]\n",
      "Test: [4 5 6 7]\n",
      "\n",
      "Train: [ 0  1  2  3  4  5  6  7 12 13 14 15 16 17 18 19]\n",
      "Test: [ 8  9 10 11]\n",
      "\n",
      "Train: [ 0  1  2  3  4  5  6  7  8  9 10 11 15 17 18 19]\n",
      "Test: [12 13 14 16]\n",
      "\n",
      "Train: [ 0  1  2  3  4  5  6  7  8  9 10 11 12 13 14 16]\n",
      "Test: [15 17 18 19]\n",
      "\n"
     ]
    }
   ],
   "source": [
    "s_k_fold = StratifiedKFold(n_splits=5)\n",
    "\n",
    "for train, test in s_k_fold.split(X, y):\n",
    "    print(f'Train: {train}')\n",
    "    print(f'Test: {test}\\n')\n"
   ],
   "metadata": {
    "collapsed": false,
    "pycharm": {
     "name": "#%%\n"
    }
   }
  },
  {
   "cell_type": "markdown",
   "source": [
    "Применить стратегию ShuffleSplit с разбиением на 10 блоков. Вывести списки индексов объектов, попавших в обучающую\n",
    "и тестовую выборку на каждой итерации, и сформировать собственно обучающие и тестовые выборки (данные и метки классов).\n",
    "Сравнить с предыдущими результатами, дать объяснения.\n",
    "\n",
    "**Вывод**: каждый объект может неоднократно участвовать как в обучении,так и в тестировании.\n",
    "ShuffleSplit будет случайным образом выбирать обучающую выборку и тестовую на каждой итерации."
   ],
   "metadata": {
    "collapsed": false
   }
  },
  {
   "cell_type": "code",
   "execution_count": 87,
   "outputs": [
    {
     "name": "stdout",
     "output_type": "stream",
     "text": [
      "Train: [ 5  9 18 11 14  3 10  2  8  0 16  6  7 13 12 19 15  1]\n",
      "Test: [ 4 17]\n",
      "\n",
      "Train: [ 7 19 12 13 17  8 14  9  6 15  2  4 11 10  5  1  3 18]\n",
      "Test: [ 0 16]\n",
      "\n",
      "Train: [ 3  9  6 14  5 16  1 13 17 12  2 18 11  7 19  4  0 15]\n",
      "Test: [10  8]\n",
      "\n",
      "Train: [ 7 18  4 19 17 13 15 10  2 16 12  0  5 14  3  9  6  1]\n",
      "Test: [11  8]\n",
      "\n",
      "Train: [10 15  9 14 18  3  8  4 17 12 19  1 11  7  0 13  2  5]\n",
      "Test: [ 6 16]\n",
      "\n",
      "Train: [14 10  4 13 17  9 11  5  1 18 15 12 16  2  8  0  7  3]\n",
      "Test: [19  6]\n",
      "\n",
      "Train: [11 10  6 17 15 13 19 18  2  0  1 14  7 12  3  5  4  9]\n",
      "Test: [16  8]\n",
      "\n",
      "Train: [ 8  9  3 17 14 18  7  2  0 13  1  6 12  4 11  5 10 15]\n",
      "Test: [19 16]\n",
      "\n",
      "Train: [ 5 12 11 15 10 19  6  9 18  2 17 16  1  3 14  8 13  7]\n",
      "Test: [4 0]\n",
      "\n",
      "Train: [ 3  1  4 17  6 18 16 14 13 11 10 19 15  2  5  0 12  9]\n",
      "Test: [8 7]\n",
      "\n"
     ]
    }
   ],
   "source": [
    "shuffle = ShuffleSplit(n_splits=10)\n",
    "\n",
    "for train, test in shuffle.split(X, y):\n",
    "    print(f'Train: {train}')\n",
    "    print(f'Test: {test}\\n')"
   ],
   "metadata": {
    "collapsed": false,
    "pycharm": {
     "name": "#%%\n"
    }
   }
  },
  {
   "cell_type": "markdown",
   "source": [
    "Применить стратегию StratifiedShuffleSplit с разбиением на 10 блоков.\n",
    "Вывести списки индексов объектов, попавших в обучающую и тестовую выборку на каждой итерации, и сформировать собственно обучающие и тестовые выборки (данные и метки классов).\n",
    "Сравнить с результатами п. 2.4, дать объяснения.\n",
    "\n",
    "**Вывод**: при формировании блоков сохраняется соотношение классов в обучающих и тестовых выборках"
   ],
   "metadata": {
    "collapsed": false
   }
  },
  {
   "cell_type": "code",
   "execution_count": 88,
   "outputs": [
    {
     "name": "stdout",
     "output_type": "stream",
     "text": [
      "Train: [19 16 12  5  6 17 15  3  2  0 13  4  1 11 10  9 18  7]\n",
      "Test: [ 8 14]\n",
      "\n",
      "Train: [11  4  2 19 16  9  5 15 13 17 18 14  7  3 12  8  1  0]\n",
      "Test: [ 6 10]\n",
      "\n",
      "Train: [18  1  5 19  6 15 11  4  3 13 14  0  2 17 10  8  7  9]\n",
      "Test: [12 16]\n",
      "\n",
      "Train: [ 8  1 14 10  5  0  2 11 12 16 19  4  3 18 15  9 13  6]\n",
      "Test: [ 7 17]\n",
      "\n",
      "Train: [ 6 16  7  2 19 18  9 10 15 17  0  3 14  4  8 12  5  1]\n",
      "Test: [13 11]\n",
      "\n",
      "Train: [ 0 12  4 17  9  5 18  2  8 10  1  3  7 16 13  6 15 14]\n",
      "Test: [11 19]\n",
      "\n",
      "Train: [ 4  9 18  8 14 17 16 15  5  3 10  6  0 11  2 13  1 12]\n",
      "Test: [ 7 19]\n",
      "\n",
      "Train: [11 16 13  0  7 12 10 18 19 15  1  9  2  3  5  6 14  8]\n",
      "Test: [ 4 17]\n",
      "\n",
      "Train: [ 4 14 12  3  1 18  6 16 17  8 19  9 15  5  0  7 11 10]\n",
      "Test: [ 2 13]\n",
      "\n",
      "Train: [ 7  4  3  2  9  1 13  6 10  5 19 12  8 16 18 11 15  0]\n",
      "Test: [17 14]\n",
      "\n"
     ]
    }
   ],
   "source": [
    "stratified_shuffle = StratifiedShuffleSplit(n_splits=10)\n",
    "\n",
    "for train, test in stratified_shuffle.split(X, y):\n",
    "    print(f'Train: {train}')\n",
    "    print(f'Test: {test}\\n')"
   ],
   "metadata": {
    "collapsed": false,
    "pycharm": {
     "name": "#%%\n"
    }
   }
  },
  {
   "cell_type": "markdown",
   "source": [
    "Применить стратегию LeaveOneOut. Вывести списки индексов объектов, попавших в обучающую и тестовую выборку на каждой итерации,\n",
    "и сформировать собственно обучающие и тестовые выборки (данные и метки классов).\n",
    "\n",
    "**Вывод**: каждый объект используется ровно один раз в качестве тестовой выборки"
   ],
   "metadata": {
    "collapsed": false
   }
  },
  {
   "cell_type": "code",
   "execution_count": 89,
   "outputs": [
    {
     "name": "stdout",
     "output_type": "stream",
     "text": [
      "Train: [ 1  2  3  4  5  6  7  8  9 10 11 12 13 14 15 16 17 18 19]\n",
      "Test: [0]\n",
      "\n",
      "Train: [ 0  2  3  4  5  6  7  8  9 10 11 12 13 14 15 16 17 18 19]\n",
      "Test: [1]\n",
      "\n",
      "Train: [ 0  1  3  4  5  6  7  8  9 10 11 12 13 14 15 16 17 18 19]\n",
      "Test: [2]\n",
      "\n",
      "Train: [ 0  1  2  4  5  6  7  8  9 10 11 12 13 14 15 16 17 18 19]\n",
      "Test: [3]\n",
      "\n",
      "Train: [ 0  1  2  3  5  6  7  8  9 10 11 12 13 14 15 16 17 18 19]\n",
      "Test: [4]\n",
      "\n",
      "Train: [ 0  1  2  3  4  6  7  8  9 10 11 12 13 14 15 16 17 18 19]\n",
      "Test: [5]\n",
      "\n",
      "Train: [ 0  1  2  3  4  5  7  8  9 10 11 12 13 14 15 16 17 18 19]\n",
      "Test: [6]\n",
      "\n",
      "Train: [ 0  1  2  3  4  5  6  8  9 10 11 12 13 14 15 16 17 18 19]\n",
      "Test: [7]\n",
      "\n",
      "Train: [ 0  1  2  3  4  5  6  7  9 10 11 12 13 14 15 16 17 18 19]\n",
      "Test: [8]\n",
      "\n",
      "Train: [ 0  1  2  3  4  5  6  7  8 10 11 12 13 14 15 16 17 18 19]\n",
      "Test: [9]\n",
      "\n",
      "Train: [ 0  1  2  3  4  5  6  7  8  9 11 12 13 14 15 16 17 18 19]\n",
      "Test: [10]\n",
      "\n",
      "Train: [ 0  1  2  3  4  5  6  7  8  9 10 12 13 14 15 16 17 18 19]\n",
      "Test: [11]\n",
      "\n",
      "Train: [ 0  1  2  3  4  5  6  7  8  9 10 11 13 14 15 16 17 18 19]\n",
      "Test: [12]\n",
      "\n",
      "Train: [ 0  1  2  3  4  5  6  7  8  9 10 11 12 14 15 16 17 18 19]\n",
      "Test: [13]\n",
      "\n",
      "Train: [ 0  1  2  3  4  5  6  7  8  9 10 11 12 13 15 16 17 18 19]\n",
      "Test: [14]\n",
      "\n",
      "Train: [ 0  1  2  3  4  5  6  7  8  9 10 11 12 13 14 16 17 18 19]\n",
      "Test: [15]\n",
      "\n",
      "Train: [ 0  1  2  3  4  5  6  7  8  9 10 11 12 13 14 15 17 18 19]\n",
      "Test: [16]\n",
      "\n",
      "Train: [ 0  1  2  3  4  5  6  7  8  9 10 11 12 13 14 15 16 18 19]\n",
      "Test: [17]\n",
      "\n",
      "Train: [ 0  1  2  3  4  5  6  7  8  9 10 11 12 13 14 15 16 17 19]\n",
      "Test: [18]\n",
      "\n",
      "Train: [ 0  1  2  3  4  5  6  7  8  9 10 11 12 13 14 15 16 17 18]\n",
      "Test: [19]\n",
      "\n"
     ]
    }
   ],
   "source": [
    "leave_one_out = LeaveOneOut()\n",
    "\n",
    "for train, test in leave_one_out.split(X, y):\n",
    "    print(f'Train: {train}')\n",
    "    print(f'Test: {test}\\n')"
   ],
   "metadata": {
    "collapsed": false,
    "pycharm": {
     "name": "#%%\n"
    }
   }
  }
 ],
 "metadata": {
  "kernelspec": {
   "display_name": "Python 3",
   "language": "python",
   "name": "python3"
  },
  "language_info": {
   "codemirror_mode": {
    "name": "ipython",
    "version": 2
   },
   "file_extension": ".py",
   "mimetype": "text/x-python",
   "name": "python",
   "nbconvert_exporter": "python",
   "pygments_lexer": "ipython2",
   "version": "2.7.6"
  }
 },
 "nbformat": 4,
 "nbformat_minor": 0
}